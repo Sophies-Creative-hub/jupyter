{
 "cells": [
  {
   "cell_type": "markdown",
   "metadata": {},
   "source": [
    "# Python Übungsaufgaben - Funktionen\n",
    "## 1. Funktionsgrundlagen\n",
    "**Aufgabe 1.1**: Schreibe eine Funktion begrüsse_person, die einen Namen als Parameter annimmt und eine Begrüßung ausgibt."
   ]
  },
  {
   "cell_type": "code",
   "execution_count": null,
   "metadata": {},
   "outputs": [
    {
     "ename": "NameError",
     "evalue": "name 'begrüsse_person' is not defined",
     "output_type": "error",
     "traceback": [
      "\u001b[31m---------------------------------------------------------------------------\u001b[39m",
      "\u001b[31mNameError\u001b[39m                                 Traceback (most recent call last)",
      "\u001b[36mCell\u001b[39m\u001b[36m \u001b[39m\u001b[32mIn[1]\u001b[39m\u001b[32m, line 2\u001b[39m\n\u001b[32m      1\u001b[39m \u001b[38;5;66;03m# Beispielaufruf:\u001b[39;00m\n\u001b[32m----> \u001b[39m\u001b[32m2\u001b[39m \u001b[43mbegrüsse_person\u001b[49m(\u001b[33m\"\u001b[39m\u001b[33mLisa\u001b[39m\u001b[33m\"\u001b[39m)  \u001b[38;5;66;03m# Soll ausgeben: \"Hallo Lisa! Willkommen zum Python-Lernen.\"\u001b[39;00m\n",
      "\u001b[31mNameError\u001b[39m: name 'begrüsse_person' is not defined"
     ]
    }
   ],
   "source": [
    "# Beispielaufruf:\n",
    "begrüsse_person(\"Lisa\")  # Soll ausgeben: \"Hallo Lisa! Willkommen zum Python-Lernen.\""
   ]
  },
  {
   "cell_type": "markdown",
   "metadata": {},
   "source": [
    "**Aufgabe 1.2**: Schreibe eine Funktion zeichne_rechteck, die ein Rechteck aus Sternchen (*) mit einer bestimmten Breite und Höhe ausgibt."
   ]
  },
  {
   "cell_type": "code",
   "execution_count": null,
   "metadata": {},
   "outputs": [],
   "source": [
    "# Beispielaufruf:\n",
    "zeichne_rechteck(3, 2)\n",
    "# Soll ausgeben:\n",
    "# ***\n",
    "# ***"
   ]
  },
  {
   "cell_type": "markdown",
   "metadata": {},
   "source": [
    "## 2. Rückgabewerte\n",
    "**Aufgabe 2.1**: Schreibe eine Funktion summe_berechnen, die zwei Zahlen addiert und das Ergebnis zurückgibt."
   ]
  },
  {
   "cell_type": "code",
   "execution_count": null,
   "metadata": {},
   "outputs": [],
   "source": [
    "# Beispielaufruf:\n",
    "ergebnis = summe_berechnen(5, 3)\n",
    "print(ergebnis)  # Soll 8 ausgeben"
   ]
  },
  {
   "cell_type": "markdown",
   "metadata": {},
   "source": [
    "**Aufgabe 2.2**: Schreibe eine Funktion fahrenheit_zu_celsius, die eine Temperatur in Fahrenheit in Celsius umrechnet und das Ergebnis zurückgibt. Die Formel ist: (fahrenheit - 32) * 5/9."
   ]
  },
  {
   "cell_type": "code",
   "execution_count": null,
   "metadata": {},
   "outputs": [],
   "source": [
    "# Beispielaufruf:\n",
    "celsius = fahrenheit_zu_celsius(68)\n",
    "print(celsius)  # Soll etwa 20.0 ausgeben"
   ]
  },
  {
   "cell_type": "markdown",
   "metadata": {},
   "source": [
    "## 3. Funktionsparameter\n",
    "**Aufgabe 3.1**: Schreibe eine Funktion begrüssung, die einen Namen und eine Tageszeit (Standardwert: \"Tag\") als Parameter annimmt und eine passende Begrüßung ausgibt."
   ]
  },
  {
   "cell_type": "code",
   "execution_count": null,
   "metadata": {},
   "outputs": [],
   "source": [
    "# Beispielaufrufe:\n",
    "begrüssung(\"Max\")  # Soll ausgeben: \"Guten Tag, Max!\"\n",
    "begrüssung(\"Anna\", \"Morgen\")  # Soll ausgeben: \"Guten Morgen, Anna!\""
   ]
  },
  {
   "cell_type": "markdown",
   "metadata": {},
   "source": [
    "**Aufgabe 3.2**: Schreibe eine Funktion erstelle_adresse, die Parameter für Straße, Hausnummer, Postleitzahl und Stadt hat. Die Funktion soll eine formatierte Adresse zurückgeben."
   ]
  },
  {
   "cell_type": "code",
   "execution_count": null,
   "metadata": {},
   "outputs": [],
   "source": [
    "# Beispielaufruf:\n",
    "adresse = erstelle_adresse(\"Hauptstraße\", 12, \"12345\", \"Berlin\")\n",
    "print(adresse)  # Soll ausgeben: \"Hauptstraße 12, 12345 Berlin\""
   ]
  },
  {
   "cell_type": "markdown",
   "metadata": {},
   "source": [
    "## 4.Fortgeschrittene Funktionskonzepte\n",
    "**Aufgabe 4.1**: Schreibe eine Lambda-Funktion, die prüft, ob eine Zahl gerade ist. Teste sie mit den Zahlen 4 und 7."
   ]
  },
  {
   "cell_type": "code",
   "execution_count": null,
   "metadata": {},
   "outputs": [],
   "source": [
    "# Beispielaufruf:\n",
    "ist_gerade = lambda x: ...  # Vervollständige die Funktion\n",
    "print(ist_gerade(4))  # Soll True ausgeben\n",
    "print(ist_gerade(7))  # Soll False ausgeben"
   ]
  },
  {
   "cell_type": "markdown",
   "metadata": {},
   "source": [
    "**Aufgabe 4.2**: Schreibe eine Funktion anwenden, die eine Funktion und eine Zahl als Parameter nimmt und die Funktion auf die Zahl anwendet. Teste sie mit verschiedenen Funktionen (z.B. Quadrieren, Verdoppeln)."
   ]
  },
  {
   "cell_type": "code",
   "execution_count": null,
   "metadata": {},
   "outputs": [],
   "source": [
    "# Beispielaufrufe:\n",
    "def quadriere(x):\n",
    "    return x ** 2\n",
    "\n",
    "def verdopple(x):\n",
    "    return x * 2\n",
    "\n",
    "print(anwenden(quadriere, 3))  # Soll 9 ausgeben\n",
    "print(anwenden(verdopple, 5))  # Soll 10 ausgeben"
   ]
  }
 ],
 "metadata": {
  "kernelspec": {
   "display_name": "Python 3",
   "language": "python",
   "name": "python3"
  },
  "language_info": {
   "codemirror_mode": {
    "name": "ipython",
    "version": 3
   },
   "file_extension": ".py",
   "mimetype": "text/x-python",
   "name": "python",
   "nbconvert_exporter": "python",
   "pygments_lexer": "ipython3",
   "version": "3.11.11"
  }
 },
 "nbformat": 4,
 "nbformat_minor": 2
}
