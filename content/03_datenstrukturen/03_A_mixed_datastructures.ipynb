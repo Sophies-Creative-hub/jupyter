{
 "cells": [
  {
   "cell_type": "markdown",
   "id": "a26f9232",
   "metadata": {
    "id": "a26f9232"
   },
   "source": [
    "## Aufgabe 1: Liste von Listen erstellen"
   ]
  },
  {
   "cell_type": "markdown",
   "id": "0384bcac",
   "metadata": {
    "id": "0384bcac"
   },
   "source": [
    "Ergänze den Code, um eine Liste mit 3 Listen zu erstellen."
   ]
  },
  {
   "cell_type": "code",
   "execution_count": null,
   "id": "fc25caef",
   "metadata": {
    "id": "fc25caef"
   },
   "outputs": [],
   "source": [
    "matrix = ____\n",
    "print(matrix)"
   ]
  },
  {
   "cell_type": "markdown",
   "id": "575d5e36",
   "metadata": {
    "id": "575d5e36"
   },
   "source": [
    "## Aufgabe 2: Element aus einer verschachtelten Liste abrufen"
   ]
  },
  {
   "cell_type": "markdown",
   "id": "58ab18be",
   "metadata": {
    "id": "58ab18be"
   },
   "source": [
    "Ergänze den Code, um das Element `6` aus `matrix` zu erhalten."
   ]
  },
  {
   "cell_type": "code",
   "execution_count": null,
   "id": "c1111959",
   "metadata": {
    "id": "c1111959"
   },
   "outputs": [],
   "source": [
    "matrix = [[1, 2, 3], [4, 5, 6], [7, 8, 9]]\n",
    "element = ____\n",
    "print(element)"
   ]
  },
  {
   "cell_type": "markdown",
   "id": "4bd4f145",
   "metadata": {
    "id": "4bd4f145"
   },
   "source": [
    "## Aufgabe 3: Alle Elemente einer bestimmten Liste ausgeben"
   ]
  },
  {
   "cell_type": "markdown",
   "id": "61d8a937",
   "metadata": {
    "id": "61d8a937"
   },
   "source": [
    "Ergänze den Code, um alle Elemente der zweiten Liste auszugeben."
   ]
  },
  {
   "cell_type": "code",
   "execution_count": null,
   "id": "9ed00a39",
   "metadata": {
    "id": "9ed00a39"
   },
   "outputs": [],
   "source": [
    "matrix = [[1, 2, 3], [4, 5, 6], [7, 8, 9]]\n",
    "for element in ____:\n",
    "    print(element)"
   ]
  },
  {
   "cell_type": "markdown",
   "id": "8ab26a2d",
   "metadata": {
    "id": "8ab26a2d"
   },
   "source": [
    "## Aufgabe 4: Letztes Element der letzten Liste abrufen"
   ]
  },
  {
   "cell_type": "markdown",
   "id": "45190304",
   "metadata": {
    "id": "45190304"
   },
   "source": [
    "Ergänze den Code, um das letzte Element der letzten Liste zu erhalten."
   ]
  },
  {
   "cell_type": "code",
   "execution_count": null,
   "id": "6d061a4a",
   "metadata": {
    "id": "6d061a4a"
   },
   "outputs": [],
   "source": [
    "matrix = [[1, 2, 3], [4, 5, 6], [7, 8, 9]]\n",
    "letztes_element = ____\n",
    "print(letztes_element)"
   ]
  },
  {
   "cell_type": "markdown",
   "id": "16e48da6",
   "metadata": {
    "id": "16e48da6"
   },
   "source": [
    "## Aufgabe 5: Alle Elemente einer Matrix zeilenweise ausgeben"
   ]
  },
  {
   "cell_type": "markdown",
   "id": "e5cf906e",
   "metadata": {
    "id": "e5cf906e"
   },
   "source": [
    "Ergänze den Code, um alle Elemente der Matrix zeilenweise auszugeben."
   ]
  },
  {
   "cell_type": "code",
   "execution_count": null,
   "id": "e7296757",
   "metadata": {
    "id": "e7296757"
   },
   "outputs": [],
   "source": [
    "matrix = [[1, 2, 3], [4, 5, 6], [7, 8, 9]]\n",
    "for zeile in ____:\n",
    "    for wert in ____:\n",
    "        print(wert)"
   ]
  },
  {
   "cell_type": "markdown",
   "id": "0b8acde1",
   "metadata": {
    "id": "0b8acde1"
   },
   "source": [
    "## Aufgabe 6: Dictionary von Dictionaries erstellen"
   ]
  },
  {
   "cell_type": "markdown",
   "id": "2643b446",
   "metadata": {
    "id": "2643b446"
   },
   "source": [
    "Ergänze den Code, um ein Dictionary mit zwei verschachtelten Dictionaries zu erstellen."
   ]
  },
  {
   "cell_type": "code",
   "execution_count": null,
   "id": "da174b89",
   "metadata": {
    "id": "da174b89"
   },
   "outputs": [],
   "source": [
    "daten = ____\n",
    "print(daten)"
   ]
  },
  {
   "cell_type": "markdown",
   "id": "e0f245ac",
   "metadata": {
    "id": "e0f245ac"
   },
   "source": [
    "## Aufgabe 7: Wert aus einem verschachtelten Dictionary abrufen"
   ]
  },
  {
   "cell_type": "markdown",
   "id": "5ee3f2a9",
   "metadata": {
    "id": "5ee3f2a9"
   },
   "source": [
    "Ergänze den Code, um das Alter von `Ben` aus `daten` abzurufen."
   ]
  },
  {
   "cell_type": "code",
   "execution_count": null,
   "id": "2b85c5d5",
   "metadata": {
    "id": "2b85c5d5"
   },
   "outputs": [],
   "source": [
    "daten = {'Ben': {'Alter': 30, 'Stadt': 'Berlin'}, 'Anna': {'Alter': 25, 'Stadt': 'Hamburg'}}\n",
    "alter_ben = ____\n",
    "print(alter_ben)"
   ]
  },
  {
   "cell_type": "markdown",
   "id": "1344b73f",
   "metadata": {
    "id": "1344b73f"
   },
   "source": [
    "## Aufgabe 8: Wert in einem verschachtelten Dictionary ändern"
   ]
  },
  {
   "cell_type": "markdown",
   "id": "941b58b7",
   "metadata": {
    "id": "941b58b7"
   },
   "source": [
    "Ergänze den Code, um die Stadt von `Anna` zu ändern."
   ]
  },
  {
   "cell_type": "code",
   "execution_count": null,
   "id": "5356c25a",
   "metadata": {
    "id": "5356c25a"
   },
   "outputs": [],
   "source": [
    "daten = {'Ben': {'Alter': 30, 'Stadt': 'Berlin'}, 'Anna': {'Alter': 25, 'Stadt': 'Hamburg'}}\n",
    "____\n",
    "print(daten['Anna']['Stadt'])"
   ]
  },
  {
   "cell_type": "markdown",
   "id": "b2386d05",
   "metadata": {
    "id": "b2386d05"
   },
   "source": [
    "## Aufgabe 9: Alle Schlüssel aus einem Dictionary von Dictionaries ausgeben"
   ]
  },
  {
   "cell_type": "markdown",
   "id": "9fd17e76",
   "metadata": {
    "id": "9fd17e76"
   },
   "source": [
    "Ergänze den Code, um alle Namen aus `daten` auszugeben."
   ]
  },
  {
   "cell_type": "code",
   "execution_count": null,
   "id": "4d9b011b",
   "metadata": {
    "id": "4d9b011b"
   },
   "outputs": [],
   "source": [
    "daten = {'Ben': {'Alter': 30, 'Stadt': 'Berlin'}, 'Anna': {'Alter': 25, 'Stadt': 'Hamburg'}}\n",
    "for name in ____:\n",
    "    print(name)"
   ]
  },
  {
   "cell_type": "markdown",
   "id": "c43c9a40",
   "metadata": {
    "id": "c43c9a40"
   },
   "source": [
    "## Aufgabe 10: Alle Werte eines bestimmten Schlüssels ausgeben"
   ]
  },
  {
   "cell_type": "markdown",
   "id": "07357771",
   "metadata": {
    "id": "07357771"
   },
   "source": [
    "Ergänze den Code, um alle Alterswerte aus `daten` auszugeben."
   ]
  },
  {
   "cell_type": "code",
   "execution_count": null,
   "id": "b3db8568",
   "metadata": {
    "id": "b3db8568"
   },
   "outputs": [],
   "source": [
    "daten = {'Ben': {'Alter': 30, 'Stadt': 'Berlin'}, 'Anna': {'Alter': 25, 'Stadt': 'Hamburg'}}\n",
    "for name in daten:\n",
    "    print(____)"
   ]
  },
  {
   "cell_type": "markdown",
   "id": "0ed82181",
   "metadata": {
    "id": "0ed82181"
   },
   "source": [
    "## Aufgabe 11: Liste von Dictionaries erstellen"
   ]
  },
  {
   "cell_type": "markdown",
   "id": "cbc954ae",
   "metadata": {
    "id": "cbc954ae"
   },
   "source": [
    "Ergänze den Code, um eine Liste mit zwei Dictionaries zu erstellen."
   ]
  },
  {
   "cell_type": "code",
   "execution_count": null,
   "id": "45feccb6",
   "metadata": {
    "id": "45feccb6"
   },
   "outputs": [],
   "source": [
    "personen = ____\n",
    "print(personen)"
   ]
  },
  {
   "cell_type": "markdown",
   "id": "bd6931a5",
   "metadata": {
    "id": "bd6931a5"
   },
   "source": [
    "## Aufgabe 12: Wert aus einer Liste von Dictionaries abrufen"
   ]
  },
  {
   "cell_type": "markdown",
   "id": "75e1b941",
   "metadata": {
    "id": "75e1b941"
   },
   "source": [
    "Ergänze den Code, um den Namen der zweiten Person in `personen` zu erhalten."
   ]
  },
  {
   "cell_type": "code",
   "execution_count": null,
   "id": "9c01f6f4",
   "metadata": {
    "id": "9c01f6f4"
   },
   "outputs": [],
   "source": [
    "personen = [{'Name': 'Ben', 'Alter': 30}, {'Name': 'Anna', 'Alter': 25}]\n",
    "name_zweite_person = ____\n",
    "print(name_zweite_person)"
   ]
  },
  {
   "cell_type": "markdown",
   "id": "e7b9c1e5",
   "metadata": {
    "id": "e7b9c1e5"
   },
   "source": [
    "## Aufgabe 13: Alle Namen aus einer Liste von Dictionaries ausgeben"
   ]
  },
  {
   "cell_type": "markdown",
   "id": "badb70ed",
   "metadata": {
    "id": "badb70ed"
   },
   "source": [
    "Ergänze den Code, um alle Namen aus `personen` auszugeben."
   ]
  },
  {
   "cell_type": "code",
   "execution_count": null,
   "id": "ceadb293",
   "metadata": {
    "id": "ceadb293"
   },
   "outputs": [],
   "source": [
    "personen = [{'Name': 'Ben', 'Alter': 30}, {'Name': 'Anna', 'Alter': 25}]\n",
    "for person in ____:\n",
    "    print(____)"
   ]
  },
  {
   "cell_type": "markdown",
   "id": "50ca4949",
   "metadata": {
    "id": "50ca4949"
   },
   "source": [
    "## Aufgabe 14: Wert in einer Liste von Dictionaries ändern"
   ]
  },
  {
   "cell_type": "markdown",
   "id": "4104e4b5",
   "metadata": {
    "id": "4104e4b5"
   },
   "source": [
    "Ergänze den Code, um das Alter der ersten Person in `personen` zu erhöhen."
   ]
  },
  {
   "cell_type": "code",
   "execution_count": null,
   "id": "21bebcca",
   "metadata": {
    "id": "21bebcca"
   },
   "outputs": [],
   "source": [
    "personen = [{'Name': 'Ben', 'Alter': 30}, {'Name': 'Anna', 'Alter': 25}]\n",
    "____\n",
    "print(personen[0]['Alter'])"
   ]
  },
  {
   "cell_type": "markdown",
   "id": "c465432c",
   "metadata": {
    "id": "c465432c"
   },
   "source": [
    "## Aufgabe 15: Neues Element zur Liste von Dictionaries hinzufügen"
   ]
  },
  {
   "cell_type": "markdown",
   "id": "5f853ac1",
   "metadata": {
    "id": "5f853ac1"
   },
   "source": [
    "Ergänze den Code, um eine neue Person zu `personen` hinzuzufügen."
   ]
  },
  {
   "cell_type": "code",
   "execution_count": null,
   "id": "2b3d0a6e",
   "metadata": {
    "id": "2b3d0a6e"
   },
   "outputs": [],
   "source": [
    "personen = [{'Name': 'Ben', 'Alter': 30}, {'Name': 'Anna', 'Alter': 25}]\n",
    "____\n",
    "print(personen)"
   ]
  },
  {
   "cell_type": "markdown",
   "id": "c5e747e3",
   "metadata": {
    "id": "c5e747e3"
   },
   "source": [
    "## Aufgabe 16: Dictionary mit Listen als Werten erstellen"
   ]
  },
  {
   "cell_type": "markdown",
   "id": "997188a2",
   "metadata": {
    "id": "997188a2"
   },
   "source": [
    "Ergänze den Code, um ein Dictionary mit Listen als Werten zu erstellen."
   ]
  },
  {
   "cell_type": "code",
   "execution_count": null,
   "id": "7add7b26",
   "metadata": {
    "id": "7add7b26"
   },
   "outputs": [],
   "source": [
    "klassen = ____\n",
    "print(klassen)"
   ]
  },
  {
   "cell_type": "markdown",
   "id": "8ea467c2",
   "metadata": {
    "id": "8ea467c2"
   },
   "source": [
    "## Aufgabe 17: Werte aus einem Dictionary mit Listen abrufen"
   ]
  },
  {
   "cell_type": "markdown",
   "id": "e8825546",
   "metadata": {
    "id": "e8825546"
   },
   "source": [
    "Ergänze den Code, um alle Schüler in `Mathe` auszugeben."
   ]
  },
  {
   "cell_type": "code",
   "execution_count": null,
   "id": "373de786",
   "metadata": {
    "id": "373de786"
   },
   "outputs": [],
   "source": [
    "klassen = {'Mathe': ['Ben', 'Anna'], 'Englisch': ['Clara', 'Tom']}\n",
    "print(____)"
   ]
  },
  {
   "cell_type": "markdown",
   "id": "ee7e3eeb",
   "metadata": {
    "id": "ee7e3eeb"
   },
   "source": [
    "## Aufgabe 18: Element zu einer Liste in einem Dictionary hinzufügen"
   ]
  },
  {
   "cell_type": "markdown",
   "id": "247058f5",
   "metadata": {
    "id": "247058f5"
   },
   "source": [
    "Ergänze den Code, um `David` zur `Englisch`-Klasse hinzuzufügen."
   ]
  },
  {
   "cell_type": "code",
   "execution_count": null,
   "id": "5344ed84",
   "metadata": {
    "id": "5344ed84"
   },
   "outputs": [],
   "source": [
    "klassen = {'Mathe': ['Ben', 'Anna'], 'Englisch': ['Clara', 'Tom']}\n",
    "____\n",
    "print(klassen['Englisch'])"
   ]
  },
  {
   "cell_type": "markdown",
   "id": "aeb42b99",
   "metadata": {
    "id": "aeb42b99"
   },
   "source": [
    "## Aufgabe 19: Alle Schlüssel eines Dictionaries mit Listen als Werten ausgeben"
   ]
  },
  {
   "cell_type": "markdown",
   "id": "7c8678ae",
   "metadata": {
    "id": "7c8678ae"
   },
   "source": [
    "Ergänze den Code, um alle Fächer in `klassen` auszugeben."
   ]
  },
  {
   "cell_type": "code",
   "execution_count": null,
   "id": "1abf0309",
   "metadata": {
    "id": "1abf0309"
   },
   "outputs": [],
   "source": [
    "klassen = {'Mathe': ['Ben', 'Anna'], 'Englisch': ['Clara', 'Tom']}\n",
    "for fach in ____:\n",
    "    print(fach)"
   ]
  },
  {
   "cell_type": "markdown",
   "id": "3529c80f",
   "metadata": {
    "id": "3529c80f"
   },
   "source": [
    "## Aufgabe 20: Alle Schlüssel-Wert-Paare in einem Dictionary mit Listen ausgeben"
   ]
  },
  {
   "cell_type": "markdown",
   "id": "9f1df3ff",
   "metadata": {
    "id": "9f1df3ff"
   },
   "source": [
    "Ergänze den Code, um für jedes Fach die Namen der Schüler auszugeben."
   ]
  },
  {
   "cell_type": "code",
   "execution_count": null,
   "id": "43003655",
   "metadata": {
    "id": "43003655"
   },
   "outputs": [],
   "source": [
    "klassen = {'Mathe': ['Ben', 'Anna'], 'Englisch': ['Clara', 'Tom']}\n",
    "for fach, schueler in ____:\n",
    "    print(fach, \":\", ____)"
   ]
  }
 ],
 "metadata": {
  "colab": {
   "provenance": [
    {
     "file_id": "11J8I1XJAFjIyorhoerzigtAkUcAOqxaJ",
     "timestamp": 1740155871383
    }
   ]
  },
  "language_info": {
   "name": "python"
  }
 },
 "nbformat": 4,
 "nbformat_minor": 5
}
