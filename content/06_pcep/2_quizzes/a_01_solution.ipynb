{
 "cells": [
  {
   "cell_type": "markdown",
   "metadata": {
    "id": "47i6zdnwRnyH"
   },
   "source": [
    "# Frage 1\n",
    "Was ist die korrekte Beschreibung für Python als Programmiersprache?\n",
    "- [ ] Eine rein kompilierte Sprache\n",
    "- [ ] Eine Sprache speziell für Webanwendungen\n",
    "- [ ] Eine interpretierte, dynamisch typisierte Hochsprache\n",
    "- [ ] Eine objektorientierte Variante von C++\n"
   ]
  },
  {
   "cell_type": "markdown",
   "metadata": {
    "id": "BVE8eQqNWdte"
   },
   "source": [
    "# Frage 2\n",
    "Welcher Befehl zeigt die \"Zen of Python\" an?\n",
    "- [ ] `help(python)`\n",
    "- [ ] `python --zen`\n",
    "- [ ] `import this`\n",
    "- [ ] `print(python.philosophy)`\n",
    "\n"
   ]
  },
  {
   "cell_type": "markdown",
   "metadata": {
    "id": "a39Vv30aXD_6"
   },
   "source": [
    "# Frage 3\n",
    "Was ist der Hauptunterschied zwischen Python 2 und Python 3 bei der Division von ganzen Zahlen?\n",
    "- [ ] Es gibt keinen Unterschied\n",
    "- [ ] In Python 2 liefert `5 / 2` das Ergebnis `2`, während in Python 3 `5 / 2` das Ergebnis `2.5` liefert\n",
    "- [ ] In Python 2 liefert `5 / 2` das Ergebnis `2.5`, während in Python 3 `5 / 2` das Ergebnis `2` liefert\n",
    "- [ ] Division von ganzen Zahlen ist in Python 2 nicht möglich\n",
    "\n"
   ]
  },
  {
   "cell_type": "markdown",
   "metadata": {
    "id": "k4c11VRAXinM"
   },
   "source": [
    "# Frage 4\n",
    "Was ist CPython?\n",
    "- [ ] Eine C-Bibliothek für Python\n",
    "- [ ] Die Standard-Referenzimplementation von Python, geschrieben in C\n",
    "- [ ] Ein Python-Compiler, der Python in C-Code übersetzt\n",
    "- [ ] Ein Modul zum Aufrufen von C-Funktionen aus Python\n",
    "\n"
   ]
  },
  {
   "cell_type": "markdown",
   "metadata": {
    "id": "XgfqYSVTX1GG"
   },
   "source": [
    "# Frage 5\n",
    "Welche der folgenden ist KEINE Python-Implementation?\n",
    "- [ ] PyPy\n",
    "- [ ] Jython\n",
    "- [x] RubyPython\n",
    "- [ ] IronPython\n",
    "\n",
    "## Begründung\n",
    "RubyPython ist quasi eine Brücke zwischen Ruby und Python, also iwie ne Bibliothek, mit der man Python-Code in Ruby schreiben kann."
   ]
  },
  {
   "cell_type": "markdown",
   "metadata": {
    "id": "rj-ZmUmrZXRD"
   },
   "source": [
    "# Frage 6\n",
    "Wie führt man eine Python-Datei namens \"script.py\" von der Kommandozeile aus?\n",
    "- [ ] `run script.py`\n",
    "- [x] `python script.py`\n",
    "- [ ] `execute script.py`\n",
    "- [ ] `compile script.py`\n",
    "\n",
    "## Begründung\n",
    "Wir brauchen beim Befehl erst die Angabe des Interpreters (python ist ein alias auf den installierten Interpreter) und Angabe der Datei als absoluter/relativer Pfad zu der Python-Datei, die ausgeführt werden soll.\n"
   ]
  },
  {
   "cell_type": "markdown",
   "metadata": {
    "id": "Ap7PTidMacej"
   },
   "source": [
    "# Frage 7\n",
    "Was bedeutet REPL in Bezug auf die Python-Konsole?\n",
    "- [ ] Real-time Execution Programming Language\n",
    "- [ ] Recursive Evaluation Programming Logic\n",
    "- [x] Read-Eval-Print Loop\n",
    "- [ ] Resource Execution Processing Library\n",
    "\n",
    "## Begründung\n",
    "- Read: Lese den Befehl aus der Konsole aus\n",
    "- Eval: Evaluiere und führe den Befehl aus\n",
    "- Print: Gib die Ausgabe zurück\n",
    "- Loop: Wiederhole solange nicht unterbrochen wird\n",
    "\n",
    "Achtung: Unterbrich den REPL-Modus entweder mit STRG+D (Unterbricht i.d.R. Verbindungen in der Shell) oder mit `exit()`\n",
    "STRG+C unterbricht immer nur den aktuellen Programmfluss, der gerade durchlaufen wird."
   ]
  },
  {
   "cell_type": "markdown",
   "metadata": {
    "id": "d4UCC9sOcREw"
   },
   "source": [
    "# Frage 8\n",
    "Welche der folgenden IDEs ist im Python-Standardpaket enthalten?\n",
    "- [x] IDLE\n",
    "- [ ] PyCharm\n",
    "- [ ] Visual Studio Code\n",
    "- [ ] Jupyter Notebook\n",
    "\n",
    "## Begründung\n",
    "IDEs wie PyCharm, VSCode oder Jupyter Notebook sind externe IDEs, die man sich installieren kann (oder online nutzen kann)."
   ]
  },
  {
   "cell_type": "markdown",
   "metadata": {
    "id": "EAXDfwP8c4E6"
   },
   "source": [
    "# Frage 9\n",
    "In Python 3, was ist die Ausgabe von `print(7 / 2)`?\n",
    "- [ ] 3\n",
    "- [ ] 3.0\n",
    "- [x] 3.5\n",
    "- [ ] 3,5\n",
    "\n",
    "## Begründung\n",
    "s.o. Frage 3"
   ]
  },
  {
   "cell_type": "markdown",
   "metadata": {
    "id": "qJ7WDd42c_tm"
   },
   "source": [
    "# Frage 10\n",
    "Was ist die korrekte Methode, um Benutzereingaben in Python einzulesen?\n",
    "- [ ] `input_value = console.read()`\n",
    "- [ ] `input_value = scanf()`\n",
    "- [x] `input_value = input()`\n",
    "- [ ] `input_value = readInput()`\n"
   ]
  },
  {
   "cell_type": "code",
   "execution_count": 5,
   "metadata": {
    "colab": {
     "base_uri": "https://localhost:8080/"
    },
    "executionInfo": {
     "elapsed": 1769,
     "status": "ok",
     "timestamp": 1744703898551,
     "user": {
      "displayName": "Helen Haveloh",
      "userId": "12987025150109305136"
     },
     "user_tz": -120
    },
    "id": "75c1i3xRdGvN",
    "outputId": "34088559-8bf8-4f0b-a82b-db41601e54c9"
   },
   "outputs": [
    {
     "name": "stdout",
     "output_type": "stream",
     "text": [
      "Bitte gib deinen Namen ein: helen\n",
      "Hallo helen\n"
     ]
    }
   ],
   "source": [
    "name = input(\"Bitte gib deinen Namen ein: \")\n",
    "print(\"Hallo\", name)"
   ]
  },
  {
   "cell_type": "markdown",
   "metadata": {
    "id": "8kwSW9tthHFU"
   },
   "source": [
    "# Frage 11\n",
    "Wie wandelt man in Python einen String in eine Fließkommazahl um?\n",
    "- [ ] `to_float(\"3.14\")`\n",
    "- [ ] `convert(\"3.14\", \"float\")`\n",
    "- [x] `float(\"3.14\")`\n",
    "- [ ] `\"3.14\".toFloat()`\n",
    "\n",
    "## Begründung\n",
    "Explizite Typkonvertierung. Wenn wir einen Typen in einen anderen Typen konvertieren wollen (und das auch erlaubt ist), dann schreiben wir den neuen Typen vor dem Wert, den wir konvertieren wollen und in Klammern dahinter den eigentlichen Wert.\n",
    "z.B.\n",
    "- float(\"3.14\"): String -> Float\n",
    "- int(\"3\"): String -> Int\n",
    "- float(3): Int -> Float (Wird einfach zu 3.0)\n",
    "- int(3.14): Float -> Int (Wir schneiden einfach Kommazahl ab, d.h. hier 3)\n",
    "- int(\"hallo\"): Fehler! ValueError, da \"hallo\" ein String ist, der keine Dezimalzahl ist.\n"
   ]
  },
  {
   "cell_type": "code",
   "execution_count": 7,
   "metadata": {
    "colab": {
     "base_uri": "https://localhost:8080/",
     "height": 176
    },
    "executionInfo": {
     "elapsed": 2360,
     "status": "error",
     "timestamp": 1744705154327,
     "user": {
      "displayName": "Helen Haveloh",
      "userId": "12987025150109305136"
     },
     "user_tz": -120
    },
    "id": "EnhZVdh2h1XD",
    "outputId": "33e57cdf-8603-497d-b447-b74ad160c791"
   },
   "outputs": [
    {
     "name": "stdout",
     "output_type": "stream",
     "text": [
      "Gib eine Zahl ein: hallo\n"
     ]
    },
    {
     "ename": "ValueError",
     "evalue": "invalid literal for int() with base 10: 'hallo'",
     "output_type": "error",
     "traceback": [
      "\u001b[0;31m---------------------------------------------------------------------------\u001b[0m",
      "\u001b[0;31mValueError\u001b[0m                                Traceback (most recent call last)",
      "\u001b[0;32m<ipython-input-7-49591e765674>\u001b[0m in \u001b[0;36m<cell line: 0>\u001b[0;34m()\u001b[0m\n\u001b[0;32m----> 1\u001b[0;31m \u001b[0mzahl\u001b[0m \u001b[0;34m=\u001b[0m \u001b[0mint\u001b[0m\u001b[0;34m(\u001b[0m\u001b[0minput\u001b[0m\u001b[0;34m(\u001b[0m\u001b[0;34m\"Gib eine Zahl ein: \"\u001b[0m\u001b[0;34m)\u001b[0m\u001b[0;34m)\u001b[0m\u001b[0;34m\u001b[0m\u001b[0;34m\u001b[0m\u001b[0m\n\u001b[0m\u001b[1;32m      2\u001b[0m \u001b[0mprint\u001b[0m\u001b[0;34m(\u001b[0m\u001b[0mzahl\u001b[0m \u001b[0;34m+\u001b[0m\u001b[0;36m1\u001b[0m\u001b[0;34m)\u001b[0m\u001b[0;34m\u001b[0m\u001b[0;34m\u001b[0m\u001b[0m\n",
      "\u001b[0;31mValueError\u001b[0m: invalid literal for int() with base 10: 'hallo'"
     ]
    }
   ],
   "source": [
    "zahl = int(input(\"Gib eine Zahl ein: \"))\n",
    "print(zahl +1)"
   ]
  },
  {
   "cell_type": "code",
   "execution_count": 9,
   "metadata": {
    "colab": {
     "base_uri": "https://localhost:8080/"
    },
    "executionInfo": {
     "elapsed": 3,
     "status": "ok",
     "timestamp": 1744705239668,
     "user": {
      "displayName": "Helen Haveloh",
      "userId": "12987025150109305136"
     },
     "user_tz": -120
    },
    "id": "JKZSpBqciOn9",
    "outputId": "4a308a81-9a9d-4572-970b-fec032efdbe7"
   },
   "outputs": [
    {
     "name": "stdout",
     "output_type": "stream",
     "text": [
      "<class 'float'>\n"
     ]
    }
   ],
   "source": [
    "## Implizite Typkonvertierung wenn wir bei Operationen z.B. die Zahl direkt in denselben Typen konvertieren zum Rechnen\n",
    "result = 3+3.14\n",
    "print(type(result))"
   ]
  },
  {
   "cell_type": "markdown",
   "metadata": {
    "id": "8RfGVaYLigZz"
   },
   "source": [
    "# Frage 12\n",
    "Was ist die Ausgabe des folgenden Python-Codes?\n",
    "```python\n",
    "print(\"Python\", \"ist\", \"cool\", sep=\"_\")\n",
    "```\n",
    "- [ ] Python ist cool\n",
    "- [x] Python_ist_cool\n",
    "- [ ] Python-ist-cool\n",
    "- [ ] Pythonistcool\n",
    "\n",
    "## Begründung\n",
    "Durch den Seperator-Operator wird angegeben mit welchem Trennzeichen die Strings ausgegeben werden in der print-Anweisung"
   ]
  },
  {
   "cell_type": "markdown",
   "metadata": {
    "id": "pf_P1hs3i2JR"
   },
   "source": [
    "# Frage 13\n",
    "Welche Funktion gibt den Datentyp einer Variablen zurück?\n",
    "- [ ] `datatype()`\n",
    "- [ ] `typeof()`\n",
    "- [x] `type()`\n",
    "- [ ] `get_type()`\n",
    "\n"
   ]
  },
  {
   "cell_type": "code",
   "execution_count": 11,
   "metadata": {
    "colab": {
     "base_uri": "https://localhost:8080/"
    },
    "executionInfo": {
     "elapsed": 3,
     "status": "ok",
     "timestamp": 1744705425383,
     "user": {
      "displayName": "Helen Haveloh",
      "userId": "12987025150109305136"
     },
     "user_tz": -120
    },
    "id": "qKoDU3bOh9kk",
    "outputId": "cf68376b-0baf-489c-b085-6afa386bf823"
   },
   "outputs": [
    {
     "name": "stdout",
     "output_type": "stream",
     "text": [
      "<class 'float'>\n",
      "<class 'str'>\n"
     ]
    }
   ],
   "source": [
    "print(type(3.14))\n",
    "print(type(\"Hallo\"))"
   ]
  },
  {
   "cell_type": "markdown",
   "metadata": {
    "id": "_LdTkxAFjHsk"
   },
   "source": [
    "# Frage 14\n",
    "Welcher Operator wird in Python für die Exponentiation (Potenzierung) verwendet?\n",
    "- [ ] ^\n",
    "- [ ] ^^\n",
    "- [x] **\n",
    "- [ ] //"
   ]
  },
  {
   "cell_type": "code",
   "execution_count": 13,
   "metadata": {
    "colab": {
     "base_uri": "https://localhost:8080/"
    },
    "executionInfo": {
     "elapsed": 3,
     "status": "ok",
     "timestamp": 1744705499806,
     "user": {
      "displayName": "Helen Haveloh",
      "userId": "12987025150109305136"
     },
     "user_tz": -120
    },
    "id": "UhKaFqymi_Ib",
    "outputId": "aa077d46-956b-4537-f4e3-04b669be0374"
   },
   "outputs": [
    {
     "name": "stdout",
     "output_type": "stream",
     "text": [
      "25\n"
     ]
    }
   ],
   "source": [
    "def quadrat(x):\n",
    "  return x ** 2 ## immer x hoch 2\n",
    "\n",
    "print(quadrat(5))"
   ]
  },
  {
   "cell_type": "markdown",
   "metadata": {
    "id": "GJo47jpAjX1j"
   },
   "source": [
    "# Frage 15\n",
    "Was bedeutet der Ausdruck `end=''` im folgenden Code?\n",
    "```python\n",
    "print(\"Hallo\", end='')\n",
    "print(\"Welt\")\n",
    "```\n",
    "- [ ] Er beendet das Programm nach der Ausgabe\n",
    "- [x] Er unterdrückt den standardmäßigen Zeilenumbruch am Ende der print-Ausgabe\n",
    "- [ ] Er fügt ein Leerzeichen am Ende der Ausgabe ein\n",
    "- [ ] Er entfernt alle Leerzeichen aus der Ausgabe\n",
    "\n",
    "## Begründung"
   ]
  },
  {
   "cell_type": "code",
   "execution_count": 21,
   "metadata": {
    "colab": {
     "base_uri": "https://localhost:8080/"
    },
    "executionInfo": {
     "elapsed": 4,
     "status": "ok",
     "timestamp": 1744705746065,
     "user": {
      "displayName": "Helen Haveloh",
      "userId": "12987025150109305136"
     },
     "user_tz": -120
    },
    "id": "hr3M75JijSD_",
    "outputId": "12dc91a1-2d35-435b-feb4-24389fae2af8"
   },
   "outputs": [
    {
     "name": "stdout",
     "output_type": "stream",
     "text": [
      "HalloWelt\n",
      "\n"
     ]
    }
   ],
   "source": [
    "print(\"Hallo\", end='')\n",
    "print(\"Welt\")\n",
    "\n",
    "print()"
   ]
  },
  {
   "cell_type": "markdown",
   "metadata": {
    "id": "Kko7c6OCkRsj"
   },
   "source": [
    "# Frage 16\n",
    "Welche der folgenden Aussagen ist korrekt über Kommentare in Python?\n",
    "- [ ] Mehrzeilige Kommentare beginnen mit `/*` und enden mit `*/`\n",
    "- [ ] Einzeilige Kommentare beginnen mit `//`\n",
    "- [x] Einzeilige Kommentare beginnen mit `#`\n",
    "- [ ] Python unterstützt keine Kommentare\n",
    "\n",
    "**Achtung**: Mehrzeilige Kommentare mit `\"\"\"Kommentar\"\"\"`\n",
    "```python\n",
    "\"\"\" Das ist\n",
    "ein langer\n",
    "Kommentar\n",
    "\"\"\"\n",
    "```"
   ]
  },
  {
   "cell_type": "code",
   "execution_count": 23,
   "metadata": {
    "colab": {
     "base_uri": "https://localhost:8080/"
    },
    "executionInfo": {
     "elapsed": 6,
     "status": "ok",
     "timestamp": 1744705912188,
     "user": {
      "displayName": "Helen Haveloh",
      "userId": "12987025150109305136"
     },
     "user_tz": -120
    },
    "id": "K9Oko76Bjj5M",
    "outputId": "7deb706b-1557-4597-f320-04585d906534"
   },
   "outputs": [
    {
     "data": {
      "text/plain": [
       "25"
      ]
     },
     "execution_count": 23,
     "metadata": {},
     "output_type": "execute_result"
    }
   ],
   "source": [
    "def quadrat(x):\n",
    "  \"\"\"\n",
    "  def: Funktion, die x quadriert\n",
    "  params: x\n",
    "  returns: quadrat von x\n",
    "  \"\"\"\n",
    "  return x ** 2\n",
    "quadrat(5)\n"
   ]
  },
  {
   "cell_type": "markdown",
   "metadata": {
    "id": "J1j7WXkplTA6"
   },
   "source": [
    "# Frage 17\n",
    "Wie importiert man ein Modul namens \"math\" in Python?\n",
    "- [ ] `include math`\n",
    "- [ ] `using math`\n",
    "- [x] `import math`\n",
    "- [ ] `require math`"
   ]
  },
  {
   "cell_type": "code",
   "execution_count": 25,
   "metadata": {
    "colab": {
     "base_uri": "https://localhost:8080/"
    },
    "executionInfo": {
     "elapsed": 3,
     "status": "ok",
     "timestamp": 1744706081122,
     "user": {
      "displayName": "Helen Haveloh",
      "userId": "12987025150109305136"
     },
     "user_tz": -120
    },
    "id": "lmeQjHSHlczM",
    "outputId": "09ed0e66-4e68-44eb-ef4f-5fe7fe27d8c1"
   },
   "outputs": [
    {
     "name": "stdout",
     "output_type": "stream",
     "text": [
      "6.283185307179586\n"
     ]
    }
   ],
   "source": [
    "import math\n",
    "print(math.tau)"
   ]
  },
  {
   "cell_type": "markdown",
   "metadata": {
    "id": "RNkLWmYel0hk"
   },
   "source": [
    "# Frage 18\n",
    "Welcher Code erzeugt einen mehrzeiligen String in Python?\n",
    "- [x] `'Zeile 1\\n Zeile 2'`\n",
    "- [ ] `\"\"\"Zeile 1\n",
    "Zeile 2\"\"\"`\n",
    "- [ ] `\"Zeile 1\n",
    "Zeile 2\"`\n",
    "- [ ] `\"Zeile 1\" + \"Zeile 2\"`\n"
   ]
  },
  {
   "cell_type": "code",
   "execution_count": 38,
   "metadata": {
    "colab": {
     "base_uri": "https://localhost:8080/"
    },
    "executionInfo": {
     "elapsed": 3,
     "status": "ok",
     "timestamp": 1744706371996,
     "user": {
      "displayName": "Helen Haveloh",
      "userId": "12987025150109305136"
     },
     "user_tz": -120
    },
    "id": "VyeCA479lefq",
    "outputId": "558ae672-e0b7-4ea4-eeaa-83abe3d33cb7"
   },
   "outputs": [
    {
     "name": "stdout",
     "output_type": "stream",
     "text": [
      "Zeile 1\n",
      "Zeile 2\n"
     ]
    }
   ],
   "source": [
    "text = \"Zeile 1\\nZeile 2\"\n",
    "print(text)"
   ]
  },
  {
   "cell_type": "markdown",
   "metadata": {
    "id": "3-apJCDEnQkh"
   },
   "source": [
    "# Frage 19\n",
    "Welche Aussage ist NICHT korrekt über die Python-Konsole?\n",
    "- [ ] Sie ermöglicht interaktives Ausführen von Python-Code\n",
    "- [ ] Sie kann mit dem Befehl `python` gestartet werden\n",
    "- [x] Sie kompiliert Python-Code zu ausführbaren Dateien\n",
    "- [ ] Sie kann zum Testen kleiner Codeblöcke verwendet werden\n",
    "\n",
    "## Begründung\n",
    "Das ist nur ein interaktiver REPL-Modus, hier kompilieren wir nix in ausführbare Dateien."
   ]
  },
  {
   "cell_type": "markdown",
   "metadata": {
    "id": "AeEx6vXdneVR"
   },
   "source": [
    "# Frage 20\n",
    "Was ist der Wert von `math.pi` in Python?\n",
    "- [ ] Exakt 3\n",
    "- [ ] Exakt 3.14\n",
    "- [ ] Exakt 22/7\n",
    "- [x] Ungefähr 3.141592653589793"
   ]
  },
  {
   "cell_type": "code",
   "execution_count": 39,
   "metadata": {
    "colab": {
     "base_uri": "https://localhost:8080/"
    },
    "executionInfo": {
     "elapsed": 6,
     "status": "ok",
     "timestamp": 1744706627491,
     "user": {
      "displayName": "Helen Haveloh",
      "userId": "12987025150109305136"
     },
     "user_tz": -120
    },
    "id": "EWplyAF2l_6U",
    "outputId": "c590aab0-1567-4d24-9781-7112e8933fef"
   },
   "outputs": [
    {
     "name": "stdout",
     "output_type": "stream",
     "text": [
      "3.141592653589793\n"
     ]
    }
   ],
   "source": [
    "import math\n",
    "print(math.pi)"
   ]
  },
  {
   "cell_type": "markdown",
   "metadata": {
    "id": "LnbDsf8Tn1k5"
   },
   "source": [
    "# Frage 21\n",
    "Welche Funktion wird verwendet, um die Anzahl der Elemente in einem String zu zählen?\n",
    "- [ ] `count()`\n",
    "- [x] `len()`\n",
    "- [ ] `size()`\n",
    "- [ ] `length()`"
   ]
  },
  {
   "cell_type": "code",
   "execution_count": 42,
   "metadata": {
    "colab": {
     "base_uri": "https://localhost:8080/"
    },
    "executionInfo": {
     "elapsed": 11,
     "status": "ok",
     "timestamp": 1744706885312,
     "user": {
      "displayName": "Helen Haveloh",
      "userId": "12987025150109305136"
     },
     "user_tz": -120
    },
    "id": "Q7jPqcvMnmcE",
    "outputId": "c21c61df-a0a0-49a7-823c-30909b7a8bb9"
   },
   "outputs": [
    {
     "name": "stdout",
     "output_type": "stream",
     "text": [
      "5\n",
      "4\n"
     ]
    }
   ],
   "source": [
    "string_length = len(\"Hallo\")\n",
    "print(string_length)\n",
    "liste = [1,2,3,4]\n",
    "print(len(liste))"
   ]
  },
  {
   "cell_type": "markdown",
   "metadata": {
    "id": "6dlG9oplotfE"
   },
   "source": [
    "# Frage 22\n",
    "Wie kann man die mathematische Konstante Pi im Python-Code verwenden?\n",
    "- [ ] `pi`\n",
    "- [ ] `PI`\n",
    "- [x] `math.pi` (nach `import math`)\n",
    "- [ ] `Math.PI`\n"
   ]
  },
  {
   "cell_type": "markdown",
   "metadata": {
    "id": "Rqc6vijlo4LO"
   },
   "source": [
    "# Frage 23\n",
    "Was ist der richtige Weg, um die Quadratwurzel von 16 in Python zu berechnen?\n",
    "- [ ] `sqrt(16)`\n",
    "- [ ] `16.sqrt()`\n",
    "- [x] `math.sqrt(16)` (nach `import math`)\n",
    "- [ ] `16 ** (1/2)`\n",
    "\n",
    "## Beispiel pq-Formel\n",
    "\n"
   ]
  },
  {
   "cell_type": "code",
   "execution_count": 49,
   "metadata": {
    "colab": {
     "base_uri": "https://localhost:8080/"
    },
    "executionInfo": {
     "elapsed": 6,
     "status": "ok",
     "timestamp": 1744707526669,
     "user": {
      "displayName": "Helen Haveloh",
      "userId": "12987025150109305136"
     },
     "user_tz": -120
    },
    "id": "-WMrN9zGob-m",
    "outputId": "b8d90593-2f63-418f-9d49-9c8552f7d027"
   },
   "outputs": [
    {
     "name": "stdout",
     "output_type": "stream",
     "text": [
      "-2.0\n"
     ]
    }
   ],
   "source": [
    "import math\n",
    "p = 4\n",
    "q = 2\n",
    "pq_formel_plus = - (p/2) + math.sqrt((p/2)-q)\n",
    "\n",
    "print(pq_formel_plus)\n",
    "\n",
    "# print(math.sqrt(-1))\n",
    "# print((-1)**(1/2))"
   ]
  },
  {
   "cell_type": "markdown",
   "metadata": {
    "id": "IsMUbpVmrClx"
   },
   "source": [
    "# Frage 24\n",
    "Wie erhält man Hilfe zu einer bestimmten Funktion in der Python-Konsole?\n",
    "- [ ] `info(function_name)`\n",
    "- [ ] `man function_name`\n",
    "- [x] `help(function_name)`\n",
    "- [ ] `? function_name`"
   ]
  },
  {
   "cell_type": "code",
   "execution_count": 50,
   "metadata": {
    "colab": {
     "base_uri": "https://localhost:8080/"
    },
    "executionInfo": {
     "elapsed": 3,
     "status": "ok",
     "timestamp": 1744707567104,
     "user": {
      "displayName": "Helen Haveloh",
      "userId": "12987025150109305136"
     },
     "user_tz": -120
    },
    "id": "qlfzjoS-qgyk",
    "outputId": "4e2635a7-fb6c-4e4d-fe01-fb8475e1003e"
   },
   "outputs": [
    {
     "name": "stdout",
     "output_type": "stream",
     "text": [
      "Help on built-in function print in module builtins:\n",
      "\n",
      "print(*args, sep=' ', end='\\n', file=None, flush=False)\n",
      "    Prints the values to a stream, or to sys.stdout by default.\n",
      "    \n",
      "    sep\n",
      "      string inserted between values, default a space.\n",
      "    end\n",
      "      string appended after the last value, default a newline.\n",
      "    file\n",
      "      a file-like object (stream); defaults to the current sys.stdout.\n",
      "    flush\n",
      "      whether to forcibly flush the stream.\n",
      "\n"
     ]
    }
   ],
   "source": [
    "help(print)"
   ]
  },
  {
   "cell_type": "markdown",
   "metadata": {
    "id": "OMl36naErQJH"
   },
   "source": [
    "# Frage 25\n",
    "Welches ist KEINE gültige IDE für Python-Entwicklung?\n",
    "- [ ] PyCharm\n",
    "- [ ] Visual Studio Code\n",
    "- [ ] IDLE\n",
    "- [x] Eclipse C/C++"
   ]
  },
  {
   "cell_type": "markdown",
   "metadata": {
    "id": "RuvU9c9bwFaL"
   },
   "source": [
    "# Frage 26\n",
    "Was macht die `dir()`-Funktion in Python?\n",
    "- [ ] Sie erstellt ein neues Verzeichnis im Filesystem\n",
    "- [ ] Sie ändert das aktuelle Arbeitsverzeichnis\n",
    "- [x] Sie zeigt die Attribute und Methoden eines Objekts oder Moduls an\n",
    "- [ ] Sie gibt das aktuelle Arbeitsverzeichnis zurück\n"
   ]
  },
  {
   "cell_type": "code",
   "execution_count": 52,
   "metadata": {
    "colab": {
     "base_uri": "https://localhost:8080/"
    },
    "executionInfo": {
     "elapsed": 4,
     "status": "ok",
     "timestamp": 1744708926907,
     "user": {
      "displayName": "Helen Haveloh",
      "userId": "12987025150109305136"
     },
     "user_tz": -120
    },
    "id": "LWKHmz9krL1h",
    "outputId": "7d634c6d-757e-424e-f3e6-c25e47b629e9"
   },
   "outputs": [
    {
     "name": "stdout",
     "output_type": "stream",
     "text": [
      "['__doc__', '__loader__', '__name__', '__package__', '__spec__', 'acos', 'acosh', 'asin', 'asinh', 'atan', 'atan2', 'atanh', 'cbrt', 'ceil', 'comb', 'copysign', 'cos', 'cosh', 'degrees', 'dist', 'e', 'erf', 'erfc', 'exp', 'exp2', 'expm1', 'fabs', 'factorial', 'floor', 'fmod', 'frexp', 'fsum', 'gamma', 'gcd', 'hypot', 'inf', 'isclose', 'isfinite', 'isinf', 'isnan', 'isqrt', 'lcm', 'ldexp', 'lgamma', 'log', 'log10', 'log1p', 'log2', 'modf', 'nan', 'nextafter', 'perm', 'pi', 'pow', 'prod', 'radians', 'remainder', 'sin', 'sinh', 'sqrt', 'tan', 'tanh', 'tau', 'trunc', 'ulp']\n"
     ]
    }
   ],
   "source": [
    "print(dir(math))"
   ]
  },
  {
   "cell_type": "markdown",
   "metadata": {
    "id": "fQSWZUk4whFb"
   },
   "source": [
    "# Frage 27\n",
    "Was ist die Ausgabe des folgenden Codes?\n",
    "```python\n",
    "print(\"Hello\", \"World\", sep=\"***\")\n",
    "```\n",
    "- [ ] Hello World\n",
    "- [x] Hello***World\n",
    "- [ ] ***Hello World***"
   ]
  },
  {
   "cell_type": "code",
   "execution_count": 53,
   "metadata": {
    "colab": {
     "base_uri": "https://localhost:8080/"
    },
    "executionInfo": {
     "elapsed": 43,
     "status": "ok",
     "timestamp": 1744709003581,
     "user": {
      "displayName": "Helen Haveloh",
      "userId": "12987025150109305136"
     },
     "user_tz": -120
    },
    "id": "5zpxw97WwQMi",
    "outputId": "14890b03-5dd7-45a1-ffa9-6b6cfb723217"
   },
   "outputs": [
    {
     "name": "stdout",
     "output_type": "stream",
     "text": [
      "Hello***World\n"
     ]
    }
   ],
   "source": [
    "print(\"Hello\", \"World\", sep=\"***\")"
   ]
  },
  {
   "cell_type": "markdown",
   "metadata": {
    "id": "3ftPLLA0ws8e"
   },
   "source": [
    "# Frage 28\n",
    "Welche der folgenden Optionen ist die empfohlene Methode zur Formatierung von Strings in modernem Python?\n",
    "- [ ] %-Formatierung\n",
    "- [ ] .format()-Methode\n",
    "- [x] f-Strings\n",
    "- [ ] string.Template()\n"
   ]
  },
  {
   "cell_type": "code",
   "execution_count": 56,
   "metadata": {
    "colab": {
     "base_uri": "https://localhost:8080/"
    },
    "executionInfo": {
     "elapsed": 43,
     "status": "ok",
     "timestamp": 1744709154927,
     "user": {
      "displayName": "Helen Haveloh",
      "userId": "12987025150109305136"
     },
     "user_tz": -120
    },
    "id": "-YhFrbXhwqh9",
    "outputId": "27895fbe-6f67-4f9b-a70d-656e0a835ff3"
   },
   "outputs": [
    {
     "name": "stdout",
     "output_type": "stream",
     "text": [
      "Hallo, Helen und ihre Lieblingszahl ist 3.14\n"
     ]
    }
   ],
   "source": [
    "name = \"Helen\"\n",
    "lieblingszahl = math.pi\n",
    "print(f\"Hallo, {name} und ihre Lieblingszahl ist {lieblingszahl:.2f}\")\n",
    "print(\"Hallo Welt\")"
   ]
  },
  {
   "cell_type": "markdown",
   "metadata": {
    "id": "uNDrSXkjxgvS"
   },
   "source": [
    "# Frage 29\n",
    "Was passiert, wenn man den folgenden Code ausführt?\n",
    "```python\n",
    "name = input(\"Wie heißt du? \")\n",
    "print(f\"Hallo, {name}!\")\n",
    "```\n",
    "- [ ] Es wird ein Syntaxfehler angezeigt\n",
    "- [ ] Es wird \"Hallo, {name}!\" ausgegeben\n",
    "- [x] Das Programm fragt nach einem Namen und begrüßt den Benutzer mit diesem Namen\n",
    "- [ ] Es wird \"Hallo, Wie heißt du? !\" ausgegeben"
   ]
  },
  {
   "cell_type": "code",
   "execution_count": 66,
   "metadata": {
    "colab": {
     "base_uri": "https://localhost:8080/"
    },
    "executionInfo": {
     "elapsed": 20069,
     "status": "ok",
     "timestamp": 1744709989004,
     "user": {
      "displayName": "Helen Haveloh",
      "userId": "12987025150109305136"
     },
     "user_tz": -120
    },
    "id": "prI33V6Nw8UZ",
    "outputId": "dffde3dc-2f16-4f44-bd2a-fc6734447733"
   },
   "outputs": [
    {
     "name": "stdout",
     "output_type": "stream",
     "text": [
      "Wie heißt du? ls -la\n",
      "Wie alt bist du? 18\n",
      "Hallo, ls -la. Du bist 18 Jahre alt!\n"
     ]
    }
   ],
   "source": [
    "name = input(\"Wie heißt du? \")\n",
    "alter = int(input(\"Wie alt bist du? \"))\n",
    "print(f\"Hallo, {name}. Du bist {alter} Jahre alt!\")"
   ]
  },
  {
   "cell_type": "code",
   "execution_count": null,
   "metadata": {
    "id": "T-S20CHZxwJH"
   },
   "outputs": [],
   "source": []
  },
  {
   "cell_type": "markdown",
   "metadata": {
    "id": "WSXUp5GcyPht"
   },
   "source": [
    "# Frage 30\n",
    "Welcher der folgenden Operatoren wird für ganzzahlige Division in Python verwendet?\n",
    "- [ ] /\n",
    "- [x] //\n",
    "- [ ] %\n",
    "- [ ] \\\\"
   ]
  },
  {
   "cell_type": "markdown",
   "metadata": {
    "id": "auBskT6RyXfS"
   },
   "source": [
    "# Frage 31\n",
    "Was ist die korrekte Reihenfolge der Schritte, die der Python-Interpreter bei der Ausführung eines Python-Skripts durchführt?\n",
    "- [ ] Kompilierung zu Maschinencode, Ausführung, Syntaxanalyse\n",
    "- [ ] Syntaxanalyse, Ausführung, Kompilierung zu Bytecode\n",
    "- [x] Syntaxanalyse, Kompilierung zu Bytecode, Ausführung\n",
    "- [ ] Ausführung, Syntaxanalyse, Optimierung\n"
   ]
  },
  {
   "cell_type": "markdown",
   "metadata": {
    "id": "eG1vg1YHyo3n"
   },
   "source": [
    "# Frage 32\n",
    "Was ist der Hauptunterschied zwischen `input()` und `raw_input()` in Python?\n",
    "- [ ] `input()` akzeptiert nur Zahlen, `raw_input()` akzeptiert Strings\n",
    "- [x] `raw_input()` existiert in Python 3 nicht mehr, es gibt nur `input()`\n",
    "- [ ] `input()` konvertiert automatisch zu Integer, `raw_input()` nicht\n",
    "- [ ] `raw_input()` ist sicherer als `input()`\n",
    "\n",
    "##\n",
    "z.B. damals in Python 2 konnte man bei input Befehle einfügen wie z.B. rm -rf / `__import__('os').system('rm -rf /')` und so das System komprommittieren. Lösche alles heißt das!\n",
    "\n",
    "```python\n",
    "text = input(\"__import__('os').system('rm -rf /')\")\n",
    "```\n"
   ]
  },
  {
   "cell_type": "markdown",
   "metadata": {
    "id": "zVThbKMF0gKN"
   },
   "source": [
    "# Frage 33\n",
    "Was wird durch den folgenden Code-Ausschnitt berechnet?\n",
    "```python\n",
    "import math\n",
    "radius = 5\n",
    "ergebnis = math.pi * radius ** 2\n",
    "```\n",
    "- [ ] Der Umfang eines Kreises\n",
    "- [x] Die Fläche eines Kreises\n",
    "- [ ] Das Volumen einer Kugel\n",
    "- [ ] Der Durchmesser eines Kreises"
   ]
  },
  {
   "cell_type": "markdown",
   "metadata": {
    "id": "Jvl8E8wT0s_D"
   },
   "source": [
    "# Frage 34\n",
    "Welche der folgenden Anweisungen zur Python-Indentierung ist korrekt?\n",
    "- [ ] Indentierung in Python ist optional\n",
    "- [ ] Python-Code muss immer mit genau 4 Leerzeichen eingerückt werden\n",
    "- [x] Indentierung wird verwendet, um Codeblöcke zu definieren\n",
    "- [ ] Tabs und Leerzeichen können beliebig gemischt werden"
   ]
  },
  {
   "cell_type": "code",
   "execution_count": null,
   "metadata": {
    "id": "f2sr1FYx01ur"
   },
   "outputs": [],
   "source": [
    "def quadrat(x):\n",
    "  if x % 2 == 0:\n",
    "    print(\"x ist gerade\")\n",
    "  return x**2\n"
   ]
  },
  {
   "cell_type": "markdown",
   "metadata": {
    "id": "tTSIWDYh1B4n"
   },
   "source": [
    "# Frage 35\n",
    "Welches Modul würde man importieren, um Zufallszahlen in Python zu generieren?\n",
    "- [ ] `randomize`\n",
    "- [x] `random`\n",
    "- [ ] `rand`\n",
    "- [ ] `math.random`\n",
    "\n",
    "\n"
   ]
  },
  {
   "cell_type": "code",
   "execution_count": 67,
   "metadata": {
    "colab": {
     "base_uri": "https://localhost:8080/"
    },
    "executionInfo": {
     "elapsed": 5,
     "status": "ok",
     "timestamp": 1744710221711,
     "user": {
      "displayName": "Helen Haveloh",
      "userId": "12987025150109305136"
     },
     "user_tz": -120
    },
    "id": "13Q4HUNB1QfB",
    "outputId": "f49eda7a-fdaf-45c5-ce18-a02fdeb35a38"
   },
   "outputs": [
    {
     "name": "stdout",
     "output_type": "stream",
     "text": [
      "['__doc__', '__loader__', '__name__', '__package__', '__spec__', 'acos', 'acosh', 'asin', 'asinh', 'atan', 'atan2', 'atanh', 'cbrt', 'ceil', 'comb', 'copysign', 'cos', 'cosh', 'degrees', 'dist', 'e', 'erf', 'erfc', 'exp', 'exp2', 'expm1', 'fabs', 'factorial', 'floor', 'fmod', 'frexp', 'fsum', 'gamma', 'gcd', 'hypot', 'inf', 'isclose', 'isfinite', 'isinf', 'isnan', 'isqrt', 'lcm', 'ldexp', 'lgamma', 'log', 'log10', 'log1p', 'log2', 'modf', 'nan', 'nextafter', 'perm', 'pi', 'pow', 'prod', 'radians', 'remainder', 'sin', 'sinh', 'sqrt', 'tan', 'tanh', 'tau', 'trunc', 'ulp']\n"
     ]
    }
   ],
   "source": [
    "print(dir(math))"
   ]
  },
  {
   "cell_type": "markdown",
   "metadata": {
    "id": "31baG1Hm2IIa"
   },
   "source": [
    "# Frage 37\n",
    "Was ist der Wert von `\"Python\"[2]`?\n",
    "- [ ] \"P\"\n",
    "- [ ] \"y\"\n",
    "- [x] \"t\"\n",
    "- [ ] \"yt\""
   ]
  },
  {
   "cell_type": "markdown",
   "metadata": {
    "id": "S-AYAR5X2YNf"
   },
   "source": [
    "# Frage 38\n",
    "Mit welcher Option beendet man die Python-Konsole?\n",
    "- [ ] `stop()`\n",
    "- [ ] `end()`\n",
    "- [x] `exit()` oder `quit()`\n",
    "- [ ] Ctrl+C"
   ]
  },
  {
   "cell_type": "markdown",
   "metadata": {
    "id": "x19LJpgq2jVr"
   },
   "source": [
    "# Frage 39\n",
    "Welche Aussage über die Entwicklung von Python ist korrekt?\n",
    "- [ ] Python wurde von Richard Stallman entwickelt --> Free Software Movement\n",
    "- [ ] Python wurde nach der Schlangenfamilie benannt --> Monty Python BBC-Show Comedy\n",
    "- [x] Python wurde von Guido van Rossum entwickelt\n",
    "- [ ] Python wurde ursprünglich für Unix entwickelt"
   ]
  },
  {
   "cell_type": "markdown",
   "metadata": {
    "id": "EuYRKeep3kqg"
   },
   "source": [
    "# Frage 40\n",
    "Was ist das Ergebnis von `3 * \"abc\"`? (\"abc\"+\"abc\"+\"abc\")\n",
    "- [ ] 3abc\n",
    "- [ ] abc3\n",
    "- [x] abcabcabc\n",
    "- [ ] Ein TypeError wird ausgelöst"
   ]
  },
  {
   "cell_type": "markdown",
   "metadata": {
    "id": "kyukkdQl4Jyt"
   },
   "source": [
    "# Frage 41\n",
    "Welche Aussage über den Global Interpreter Lock (GIL) in CPython ist korrekt?\n",
    "- [ ] Der GIL beschleunigt die Ausführung von Python-Code\n",
    "- [x] Der GIL beschränkt die Parallelität bei Threads\n",
    "- [ ] Der GIL ist eine spezielle Sicherheitsfunktion gegen Malware\n",
    "- [ ] Der GIL ist ein Feature, das nur in Python 2 existiert"
   ]
  },
  {
   "cell_type": "markdown",
   "metadata": {
    "id": "vN4BWsyT4_q2"
   },
   "source": [
    "# Frage 42\n",
    "Was wird unter \"Duck Typing\" in Python verstanden?\n",
    "- [ ] Eine Methode zur Kodierung von geheimen Nachrichten\n",
    "- [x] Eine Programmiertechnik, bei der der Typ eines Objekts weniger wichtig ist als sein Verhalten\n",
    "- [ ] Ein spezieller Datentyp für binäre Operationen\n",
    "- [ ] Eine Debugging-Technik für Python-Programme"
   ]
  },
  {
   "cell_type": "markdown",
   "metadata": {
    "id": "O6zcpw3z8wDV"
   },
   "source": [
    "# Frage 43\n",
    "Welches ist die empfohlene Namenskonvention für Funktionen in Python laut PEP 8?\n",
    "- [ ] camelCase\n",
    "- [ ] PascalCase\n",
    "- [x] snake_case\n",
    "- [ ] UPPERCASE\n"
   ]
  },
  {
   "cell_type": "markdown",
   "metadata": {
    "id": "qE1FYceX9KRl"
   },
   "source": [
    "# Frage 44\n",
    "Was geschieht, wenn man den Befehl `help()` ohne Argumente in der Python-Konsole eingibt?\n",
    "- [ ] Es wird ein Syntaxfehler angezeigt\n",
    "- [ ] Es wird nichts passieren\n",
    "- [x] Es wird eine interaktive Hilfe gestartet\n",
    "- [ ] Es wird die Dokumentation zur `help`-Funktion angezeigt"
   ]
  },
  {
   "cell_type": "code",
   "execution_count": 70,
   "metadata": {
    "colab": {
     "base_uri": "https://localhost:8080/"
    },
    "executionInfo": {
     "elapsed": 16902,
     "status": "ok",
     "timestamp": 1744712313106,
     "user": {
      "displayName": "Helen Haveloh",
      "userId": "12987025150109305136"
     },
     "user_tz": -120
    },
    "id": "BnuUSwbA25ic",
    "outputId": "75a6d488-64c6-4bc8-ff37-986ba0746a8d"
   },
   "outputs": [
    {
     "name": "stdout",
     "output_type": "stream",
     "text": [
      "Welcome to Python 3.11's help utility! If this is your first time using\n",
      "Python, you should definitely check out the tutorial at\n",
      "https://docs.python.org/3.11/tutorial/.\n",
      "\n",
      "Enter the name of any module, keyword, or topic to get help on writing\n",
      "Python programs and using Python modules.  To get a list of available\n",
      "modules, keywords, symbols, or topics, enter \"modules\", \"keywords\",\n",
      "\"symbols\", or \"topics\".\n",
      "\n",
      "Each module also comes with a one-line summary of what it does; to list\n",
      "the modules whose name or summary contain a given string such as \"spam\",\n",
      "enter \"modules spam\".\n",
      "\n",
      "To quit this help utility and return to the interpreter,\n",
      "enter \"q\" or \"quit\".\n",
      "\n",
      "\n",
      "You are now leaving help and returning to the Python interpreter.\n",
      "If you want to ask for help on a particular object directly from the\n",
      "interpreter, you can type \"help(object)\".  Executing \"help('string')\"\n",
      "has the same effect as typing a particular string at the help> prompt.\n"
     ]
    }
   ],
   "source": [
    "help()\n"
   ]
  },
  {
   "cell_type": "markdown",
   "metadata": {
    "id": "8mjAn22c9TvO"
   },
   "source": []
  },
  {
   "cell_type": "code",
   "execution_count": null,
   "metadata": {
    "id": "y4DPQ4wz265c"
   },
   "outputs": [],
   "source": []
  },
  {
   "cell_type": "markdown",
   "metadata": {
    "id": "uYat4nj99Z5u"
   },
   "source": [
    "# Frage 46\n",
    "Was ist die Ausgabe des folgenden Codes?\n",
    "```python\n",
    "print(abs(-15))\n",
    "```\n",
    "- [ ] -15\n",
    "- [x] 15\n",
    "- [ ] 0\n",
    "- [ ] Ein Fehler wird ausgegeben\n"
   ]
  },
  {
   "cell_type": "code",
   "execution_count": 73,
   "metadata": {
    "colab": {
     "base_uri": "https://localhost:8080/"
    },
    "executionInfo": {
     "elapsed": 11,
     "status": "ok",
     "timestamp": 1744712480484,
     "user": {
      "displayName": "Helen Haveloh",
      "userId": "12987025150109305136"
     },
     "user_tz": -120
    },
    "id": "OL5R_8aU9dnm",
    "outputId": "c3cb050f-6288-4c07-ee38-3ce3daea6ef3"
   },
   "outputs": [
    {
     "name": "stdout",
     "output_type": "stream",
     "text": [
      "1000000\n"
     ]
    }
   ],
   "source": [
    "print(abs(-1000000))"
   ]
  },
  {
   "cell_type": "code",
   "execution_count": null,
   "metadata": {
    "id": "Js6ojJ2C9emj"
   },
   "outputs": [],
   "source": []
  },
  {
   "cell_type": "markdown",
   "metadata": {
    "id": "59pdywyO9-yj"
   },
   "source": [
    "# Frage 47\n",
    "Welche der folgenden Aussagen zu Python-Versionen ist korrekt?\n",
    "- [ ] Python 2 erhält noch regelmäßige Updates und Sicherheits-Patches\n",
    "- [ ] Python 4 ist bereits in der Beta-Phase\n",
    "- [x] Python 2 hat sein offizielles End-of-Life im Januar 2020 erreicht\n",
    "- [ ] Python 3 ist vollständig abwärtskompatibel mit Python 2"
   ]
  },
  {
   "cell_type": "markdown",
   "metadata": {
    "id": "EWMBCYqO-FQ1"
   },
   "source": [
    "# Frage 48\n",
    "Was bedeutet \"batteries included\" im Zusammenhang mit Python?\n",
    "- [ ] Python-Programme benötigen keine externe Stromversorgung\n",
    "- [x] Python kommt mit einer umfangreichen Standardbibliothek\n",
    "- [ ] Python hat integrierte Funktionen zur Energieverwaltung\n",
    "- [ ] Python-Interpreter werden mit Akku-Packs ausgeliefert\n",
    "\n",
    "z.B. math, random, datetime"
   ]
  },
  {
   "cell_type": "markdown",
   "metadata": {
    "id": "B4yIU1ah-m4g"
   },
   "source": [
    "# Frage 49\n",
    "Welcher Operator wird in Python verwendet, um zu überprüfen, ob zwei Variablen auf dasselbe Objekt verweisen?\n",
    "- [ ] ==\n",
    "- [x] is\n",
    "- [ ] equals\n",
    "- [ ] ==="
   ]
  },
  {
   "cell_type": "code",
   "execution_count": 84,
   "metadata": {
    "colab": {
     "base_uri": "https://localhost:8080/"
    },
    "executionInfo": {
     "elapsed": 14,
     "status": "ok",
     "timestamp": 1744712866465,
     "user": {
      "displayName": "Helen Haveloh",
      "userId": "12987025150109305136"
     },
     "user_tz": -120
    },
    "id": "vpeFnGJe-wGD",
    "outputId": "e3ed76bd-0584-4472-9702-a86a5bc48c3f"
   },
   "outputs": [
    {
     "name": "stdout",
     "output_type": "stream",
     "text": [
      "True\n",
      "False\n"
     ]
    }
   ],
   "source": [
    "a = []\n",
    "b = a.copy()\n",
    "print(a == b)\n",
    "print(a is b)"
   ]
  },
  {
   "cell_type": "markdown",
   "metadata": {
    "id": "sk3r4FIn_bwR"
   },
   "source": [
    "# Frage 50\n",
    "Was ist das Ergebnis der folgenden Operation?\n",
    "```python\n",
    "\"Python\"[1:4]\n",
    "```\n",
    "- [ ] \"Pyt\"\n",
    "- [x] \"yth\"\n",
    "- [ ] \"ytho\"\n",
    "- [ ] \"ython\""
   ]
  },
  {
   "cell_type": "code",
   "execution_count": null,
   "metadata": {
    "id": "XRpcRWzZ-zit"
   },
   "outputs": [],
   "source": []
  }
 ],
 "metadata": {
  "colab": {
   "authorship_tag": "ABX9TyMaWyYFy0rmpjg09hc4y0BE",
   "provenance": []
  },
  "kernelspec": {
   "display_name": "Python 3",
   "name": "python3"
  },
  "language_info": {
   "name": "python"
  }
 },
 "nbformat": 4,
 "nbformat_minor": 0
}
