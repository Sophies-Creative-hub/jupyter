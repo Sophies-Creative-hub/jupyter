{
    "cells": [
        {
            "cell_type": "markdown",
            "metadata": {},
            "source": [
                "# Python Kontrollstrukturen II: Schleifen\n",
                "\n",
                "## PCEP-Prüfungsvorbereitung - Interaktives Lernmaterial\n",
                "\n",
                "Dieses Jupyter Notebook dient als interaktive Lernumgebung zum Thema Schleifen in Python. Du kannst die Code-Beispiele direkt ausführen, modifizieren und mit den Übungsaufgaben dein Verständnis vertiefen.\n",
                "\n",
                "### Inhaltsverzeichnis\n",
                "1. [While-Schleifen](#1.-While-Schleifen)\n",
                "2. [For-Schleifen](#2.-For-Schleifen)\n",
                "3. [Verschachtelte Schleifen](#3.-Verschachtelte-Schleifen)\n",
                "4. [Praktische Beispiele](#4.-Praktische-Beispiele)\n",
                "5. [Effizienz bei Schleifen](#5.-Effizienz-bei-Schleifen)\n",
                "6. [Übungsaufgaben](#6.-Übungsaufgaben)"
            ]
        },
        {
            "cell_type": "markdown",
            "metadata": {},
            "source": [
                "## 1. While-Schleifen\n",
                "\n",
                "Eine `while`-Schleife führt einen Codeblock aus, solange eine bestimmte Bedingung erfüllt ist.\n",
                "\n",
                "### Syntax\n",
                "```python\n",
                "while Bedingung:\n",
                "    # Anweisungen, die ausgeführt werden,\n",
                "    # solange die Bedingung True ist\n",
                "```\n",
                "\n",
                "### 💡 Leitfrage: \n",
                "Wann ist eine while-Schleife einer for-Schleife vorzuziehen?"
            ]
        },
        {
            "cell_type": "markdown",
            "metadata": {},
            "source": [
                "- for-Schleife wenn ich z.B. etwas aufzählen möchte --> Wenn ich weiß wie oft die Schleife durchlaufen werden soll\n",
                "- while-Schleife wenn ich nicht weiß wie oft die Schleife durchlaufen werden soll --> Wenn ich eine Bedingung habe, die erfüllt sein muss\n",
                "- while-Schleife ist abhängig von einer Bedingung, nicht von einer festen Anzahl\n",
                "- while-Schleife z.B. wenn ich Werbung anzeigen möchte, bis der Nutzer auf \"OK\" klickt \n",
                "```markdown\n",
                "while \"benutzer drückt nicht OK\": \n",
                "    Werbung anzeigen\n",
                "```\n",
                "- Wichtig: Bei while-Schleifen könnte die Schleife unter Umständen gar nicht durchlaufen werden, falls BEdingung von Anfang an nicht wahr"
            ]
        },
        {
            "cell_type": "markdown",
            "metadata": {},
            "source": [
                "### 1.1 Einfache Beispiele"
            ]
        },
        {
            "cell_type": "code",
            "execution_count": 1,
            "metadata": {},
            "outputs": [
                {
                    "name": "stdout",
                    "output_type": "stream",
                    "text": [
                        "1\n",
                        "2\n",
                        "3\n",
                        "4\n",
                        "5\n"
                    ]
                }
            ],
            "source": [
                "# Beispiel 1: Zählen von 1 bis 5\n",
                "count = 1\n",
                "while count <= 5:\n",
                "    print(count)\n",
                "    count += 1  # Wichtig: Zähler inkrementieren, sonst entsteht eine Endlosschleife!"
            ]
        },
        {
            "cell_type": "markdown",
            "metadata": {},
            "source": [
                "**Übung 1.1a**: Modifiziere den obigen Code, um rückwärts von 10 bis 1 zu zählen.\n"
            ]
        },
        {
            "cell_type": "code",
            "execution_count": null,
            "metadata": {},
            "outputs": [
                {
                    "name": "stdout",
                    "output_type": "stream",
                    "text": [
                        "10\n",
                        "8\n",
                        "6\n",
                        "4\n",
                        "2\n",
                        "0\n",
                        "Wir sind aus der Schleife raus\n"
                    ]
                }
            ],
            "source": [
                "count = 10\n",
                "while count >= 1:\n",
                "    print(count)\n",
                "    count -= 2\n",
                "print(\"Wir sind aus der Schleife raus\")"
            ]
        },
        {
            "cell_type": "code",
            "execution_count": 1,
            "metadata": {},
            "outputs": [
                {
                    "name": "stdout",
                    "output_type": "stream",
                    "text": [
                        "10\n",
                        "8\n",
                        "6\n",
                        "4\n",
                        "2\n",
                        "0\n",
                        "Wir sind aus der Schleife raus\n"
                    ]
                }
            ],
            "source": [
                "## Beispiel mit breaks\n",
                "## Achtung verwenden wir, wenn wir unter bestimmten Bedingungen die Schleife unterbrechen wollen\n",
                "## Dungeons & Dragons: Hier haben wir ne while True-Schleife und break-Points wenn der User Ende eingegeben hat oder mit STRG+C das Programm unterbrochen hat\n",
                "count = 10\n",
                "while True:\n",
                "    print(count)\n",
                "    if (count <= 1):\n",
                "        break\n",
                "    count -= 2\n",
                "print(\"Wir sind aus der Schleife raus\")"
            ]
        },
        {
            "cell_type": "markdown",
            "metadata": {},
            "source": [
                "- Wenn wir in einer while-Schleife n-mal durchlaufen wollen (hier z.B. 10 = n mal), dann müssen wir explizit eine sogenannte **Laufvariable** definieren.\n",
                "- Wir initialisieren z.B. die Variable `count` mit einem Anfangswert, z.B. 10\n",
                "- Dann definieren wir die Bedingung, dass die Schleife solange durchlaufen werden soll, wie `count` größer gleich 1 ist.\n",
                "- Ist die Bedingung wahr, so gehen wir in den Körper der Schleife und führen die Anweisungen durch.\n",
                "- Wichtig: Wenn ich eine Laufvariable wie `count`habe, dann muss diese nach jedem Schleifendurchlauf verändert werden, z.B. durch Dekrementieren der Laufvariablen (wir rechnen 1 runter). Im Vergleich zum Inkrementieren, wo wir immer eine Stelle erhöhen."
            ]
        },
        {
            "cell_type": "code",
            "execution_count": 13,
            "metadata": {},
            "outputs": [
                {
                    "name": "stdout",
                    "output_type": "stream",
                    "text": [
                        "10\n",
                        "9\n",
                        "8\n",
                        "7\n",
                        "6\n",
                        "5\n",
                        "4\n",
                        "3\n",
                        "2\n",
                        "1\n"
                    ]
                }
            ],
            "source": [
                "# count = 10\n",
                "# while count > 0:\n",
                "#   print(count)\n",
                "#   count -= 1\n",
                "for count in range(10,0,-1):\n",
                "    print(count)"
            ]
        },
        {
            "cell_type": "markdown",
            "metadata": {},
            "source": [
                "### 1.2 Summe berechnen\n"
            ]
        },
        {
            "cell_type": "code",
            "execution_count": 22,
            "metadata": {},
            "outputs": [
                {
                    "name": "stdout",
                    "output_type": "stream",
                    "text": [
                        "Die Summe der Zahlen von 1 bis 10 ist: 55\n"
                    ]
                }
            ],
            "source": [
                "# Beispiel 2: Summe der Zahlen von 1 bis 10\n",
                "## n ist die obere Grenze, von den Zahlen, die wir für die Summen-Berechnung verwenden wollen\n",
                "n = 10\n",
                "## Ist das vorläufige Ergebnis für die Aufsummierung der Zahlen\n",
                "sum_result = 0\n",
                "## Laufvariable/-index\n",
                "i = 1\n",
                "\n",
                "## Beispiel:\n",
                "## für n = 3: 1 + 2 + 3 = 6\n",
                "## für n = 10: 1 + 2 + 3 + 4 + 5 + 6 + 7 + 8 + 9 + 10 = 55\n",
                "\n",
                "while i <= n:\n",
                "    sum_result += i\n",
                "    i += 1\n",
                "\n",
                "# while True:\n",
                "#     sum_result += i\n",
                "#     if (i >= n):\n",
                "#         break\n",
                "#     i += 1\n",
                "\n",
                "print(f\"Die Summe der Zahlen von 1 bis {n} ist: {sum_result}\")"
            ]
        },
        {
            "cell_type": "markdown",
            "metadata": {},
            "source": [
                "**Übung 1.2a**: Ändere den Code so, dass nur die Summe der geraden Zahlen von 1 bis n berechnet wird.\n"
            ]
        },
        {
            "cell_type": "code",
            "execution_count": 23,
            "metadata": {},
            "outputs": [
                {
                    "name": "stdout",
                    "output_type": "stream",
                    "text": [
                        "Die Summe der Zahlen von 1 bis 10 ist: 30\n"
                    ]
                }
            ],
            "source": [
                "# Beispiel 2: Summe der Zahlen von 1 bis 10\n",
                "## n ist die obere Grenze, von den Zahlen, die wir für die Summen-Berechnung verwenden wollen\n",
                "n = 10\n",
                "## Ist das vorläufige Ergebnis für die Aufsummierung der Zahlen\n",
                "sum_result = 0\n",
                "## Laufvariable/-index\n",
                "i = 1\n",
                "\n",
                "## Beispiel:\n",
                "## für n = 3: 2 = 2\n",
                "## für n = 10:  2  + 4  + 6  + 8 + 10 = 30\n",
                "\n",
                "while i <= n:\n",
                "    if i % 2 == 0:\n",
                "        sum_result += i\n",
                "    i += 1\n",
                "print(f\"Die Summe der Zahlen von 1 bis {n} ist: {sum_result}\")"
            ]
        },
        {
            "cell_type": "markdown",
            "metadata": {},
            "source": [
                "### 1.3 While mit Benutzereingabe\n",
                "Eine häufige Anwendung von `while`-Schleifen ist die Validierung von Benutzereingaben.\n"
            ]
        },
        {
            "cell_type": "code",
            "execution_count": 26,
            "metadata": {},
            "outputs": [
                {
                    "name": "stdout",
                    "output_type": "stream",
                    "text": [
                        "Fehler: Die Eingabe muss eine positive Zahl sein.. Bitte versuche es erneut.\n",
                        "Fehler: Die Eingabe muss eine positive Zahl sein.. Bitte versuche es erneut.\n",
                        "Fehler: Die Eingabe muss eine positive Zahl sein.. Bitte versuche es erneut.\n",
                        "Fehler: Die Eingabe muss eine Zahl sein.. Bitte versuche es erneut.\n",
                        "Fehler: Die Eingabe muss eine Zahl sein.. Bitte versuche es erneut.\n",
                        "Fehler: Die Eingabe muss eine Zahl sein.. Bitte versuche es erneut.\n",
                        "Fehler: Die Eingabe muss eine Zahl sein.. Bitte versuche es erneut.\n",
                        "Danke! Du hast die gültige Zahl 6.0 eingegeben.\n"
                    ]
                }
            ],
            "source": [
                "# In Jupyter müssen wir vorsichtig mit input() sein, da es den Ausführungsfluss blockiert\n",
                "# Hier ein Beispiel mit simulierter Eingabe\n",
                "## Mit while-Schleife\n",
                "\n",
                "def validate_positive_number(input_value):\n",
                "    \"\"\"Validiert, ob eine Eingabe eine positive Zahl ist.\"\"\"\n",
                "    try:\n",
                "        number = float(input_value)\n",
                "        if number > 0:\n",
                "            return True, number\n",
                "        else:\n",
                "            return False, \"Die Eingabe muss eine positive Zahl sein.\"\n",
                "    except ValueError:\n",
                "        return False, \"Die Eingabe muss eine Zahl sein.\"\n",
                "\n",
                "# In einer realen Anwendung würde man eine while-Schleife verwenden:\n",
                "valid_input = False\n",
                "while not valid_input:\n",
                "    user_input = input(\"Bitte gib eine positive Zahl ein: \")\n",
                "    valid_input, result = validate_positive_number(user_input)\n",
                "    \n",
                "    if not valid_input:\n",
                "        print(f\"Fehler: {result}. Bitte versuche es erneut.\")\n",
                "    else:\n",
                "        print(f\"Danke! Du hast die gültige Zahl {result} eingegeben.\")\n",
                "\n",
                "# Mit der while-Schleife wird so lange nach Eingaben gefragt,\n",
                "# bis eine gültige positive Zahl eingegeben wurde"
            ]
        },
        {
            "cell_type": "code",
            "execution_count": 30,
            "metadata": {},
            "outputs": [
                {
                    "name": "stdout",
                    "output_type": "stream",
                    "text": [
                        "Danke! Du hast python eingegeben.\n"
                    ]
                }
            ],
            "source": [
                "# In Jupyter müssen wir vorsichtig mit input() sein, da es den Ausführungsfluss blockiert\n",
                "# Hier ein Beispiel mit simulierter Eingabe\n",
                "## Mit while-Schleife\n",
                "\n",
                "def validate_character(input_value):\n",
                "    \"\"\"Validiert, ob eine Eingabe eine positive Zahl ist.\"\"\"\n",
                "    text = str(input_value)\n",
                "    if text.lower() == \"python\":\n",
                "        return True, text\n",
                "    else:\n",
                "        return False, \"Du musst ein python eingeben\"\n",
                "\n",
                "# In einer realen Anwendung würde man eine while-Schleife verwenden:\n",
                "valid_input = False\n",
                "while not valid_input:\n",
                "    user_input = input(\"Bitte gib python ein: \")\n",
                "    valid_input, result = validate_character(user_input)\n",
                "    \n",
                "    if not valid_input:\n",
                "        print(f\"Fehler: {result}. Bitte versuche es erneut.\")\n",
                "    else:\n",
                "        print(f\"Danke! Du hast {result} eingegeben.\")\n",
                "\n",
                "# Mit der while-Schleife wird so lange nach Eingaben gefragt,\n",
                "# bis eine gültige positive Zahl eingegeben wurde"
            ]
        },
        {
            "cell_type": "code",
            "execution_count": 6,
            "metadata": {},
            "outputs": [
                {
                    "name": "stdout",
                    "output_type": "stream",
                    "text": [
                        "====================\n",
                        "========Menü========\n",
                        "1. \t Geradeaus laufen\n",
                        "2. \t Gegenstand aufheben\n",
                        "3. \t Kämpfen\n",
                        "Ungültige Eingabe, bitte gib eine Zahl zwischen 1 und 3 ein.\n",
                        "====================\n",
                        "========Menü========\n",
                        "1. \t Geradeaus laufen\n",
                        "2. \t Gegenstand aufheben\n",
                        "3. \t Kämpfen\n",
                        "Du möchtest kämpfen. Du verlierst, das Programm wird beendet\n"
                    ]
                }
            ],
            "source": [
                "def show_menu():\n",
                "    print(\"=\"*20)\n",
                "    print(\"=\"*8 + \"Menü\" + \"=\"*8)\n",
                "    print(\"1. \\t Geradeaus laufen\")\n",
                "    print(\"2. \\t Gegenstand aufheben\")\n",
                "    print(\"3. \\t Kämpfen\")\n",
                "    return input(\"Bitte wähle eine Option (1-3): \")\n",
                "\n",
                "# show_menu()\n",
                "\n",
                "# Hauptschleife mit while definieren\n",
                "while True:\n",
                "    choice = show_menu()\n",
                "\n",
                "    if choice == \"1\":\n",
                "        print(\"Du hast dich fürs Geradeauslaufen entschieden\")\n",
                "        print(\"Wähle nun eine weitere Option: \")\n",
                "    elif choice == \"2\":\n",
                "        print(\"Du möchtest einen Gegenstand aufheben\")\n",
                "        print(\"Wähle nun eine weitere Option: \")\n",
                "    elif choice == \"3\":\n",
                "        print(\"Du möchtest kämpfen. Du verlierst, das Programm wird beendet\")\n",
                "        break\n",
                "    else:\n",
                "        print(\"Ungültige Eingabe, bitte gib eine Zahl zwischen 1 und 3 ein.\")\n",
                "\n",
                "    # print(\"Eingegebene Wahl: \", choice)\n",
                "    # break\n"
            ]
        },
        {
            "cell_type": "code",
            "execution_count": 7,
            "metadata": {},
            "outputs": [
                {
                    "name": "stdout",
                    "output_type": "stream",
                    "text": [
                        "\n",
                        "Teste Eingabe: abc\n",
                        "Fehler: Die Eingabe muss eine Zahl sein.\n",
                        "\n",
                        "Teste Eingabe: -5\n",
                        "Fehler: Die Eingabe muss eine positive Zahl sein.\n",
                        "\n",
                        "Teste Eingabe: 0\n",
                        "Fehler: Die Eingabe muss eine positive Zahl sein.\n",
                        "\n",
                        "Teste Eingabe: 42.5\n",
                        "Gültige Eingabe: 42.5\n"
                    ]
                }
            ],
            "source": [
                "# In Jupyter müssen wir vorsichtig mit input() sein, da es den Ausführungsfluss blockiert\n",
                "# Hier ein Beispiel mit simulierter Eingabe\n",
                "## Mit for-Schleife\n",
                "\n",
                "def validate_positive_number(input_value):\n",
                "    \"\"\"Validiert, ob eine Eingabe eine positive Zahl ist.\"\"\"\n",
                "    try:\n",
                "        number = float(input_value)\n",
                "        if number > 0:\n",
                "            return True, number\n",
                "        else:\n",
                "            return False, \"Die Eingabe muss eine positive Zahl sein.\"\n",
                "    except ValueError:\n",
                "        return False, \"Die Eingabe muss eine Zahl sein.\"\n",
                "\n",
                "# Simulierte Eingaben zum Testen\n",
                "test_inputs = [\"abc\", \"-5\", \"0\", \"42.5\"]\n",
                "\n",
                "for test_input in test_inputs:\n",
                "    print(f\"\\nTeste Eingabe: {test_input}\")\n",
                "    valid, result = validate_positive_number(test_input)\n",
                "    if valid:\n",
                "        print(f\"Gültige Eingabe: {result}\")\n",
                "    else:\n",
                "        print(f\"Fehler: {result}\")"
            ]
        },
        {
            "cell_type": "markdown",
            "metadata": {},
            "source": [
                "**Übung 1.3a**: Schreibe eine Funktion, die eine Eingabe validiert und sicherstellt, dass sie eine ganze Zahl zwischen 1 und 100 ist."
            ]
        },
        {
            "cell_type": "code",
            "execution_count": null,
            "metadata": {},
            "outputs": [],
            "source": [
                "def validate_integer_1_to_100(input_value):\n",
                "    \"\"\"Validiert, ob eine Eingabe eine ganze Zahl zwischen 1 und 100 ist.\"\"\"\n",
                "    try:\n",
                "        number = int(input_value)\n",
                "        if 1 <= number <= 100:\n",
                "            return True, number\n",
                "        else:\n",
                "            return False, \"Die Eingabe muss zwischen 1 und 100 liegen.\"\n",
                "    except ValueError:\n",
                "        return False, \"Die Eingabe muss eine ganze Zahl sein.\""
            ]
        },
        {
            "cell_type": "markdown",
            "metadata": {},
            "source": [
                "### 1.4 While mit else-Klausel\n",
                "\n",
                "Python erlaubt eine besondere Erweiterung der `while`-Schleife mit einer `else`-Klausel. Der Code im `else`-Block wird ausgeführt, wenn die Schleifenbedingung `False` wird."
            ]
        },
        {
            "cell_type": "code",
            "execution_count": null,
            "metadata": {},
            "outputs": [
                {
                    "name": "stdout",
                    "output_type": "stream",
                    "text": [
                        "1\n",
                        "2\n",
                        "3\n",
                        "4\n",
                        "5\n",
                        "Die Schleife ist normal beendet worden.\n"
                    ]
                }
            ],
            "source": [
                "count = 1\n",
                "while count <= 5:\n",
                "    print(count)\n",
                "    count += 1\n",
                "else:\n",
                "    print(\"Die Schleife ist normal beendet worden.\")"
            ]
        },
        {
            "cell_type": "markdown",
            "metadata": {},
            "source": [
                "Wenn die Schleife mit `break` vorzeitig beendet wird, wird der `else`-Block übersprungen:\n"
            ]
        },
        {
            "cell_type": "code",
            "execution_count": 12,
            "metadata": {},
            "outputs": [
                {
                    "name": "stdout",
                    "output_type": "stream",
                    "text": [
                        "1\n",
                        "2\n",
                        "3\n",
                        "Schleife wird bei 3 abgebrochen.\n",
                        "Die Schleife wurde unterbrochen.\n"
                    ]
                }
            ],
            "source": [
                "count = 1\n",
                "while count <= 5:\n",
                "    print(count)\n",
                "    if count == 3:\n",
                "        print(\"Schleife wird bei 3 abgebrochen.\")\n",
                "        break  # Schleife bei 3 abbrechen\n",
                "    count += 1\n",
                "else:\n",
                "    print(\"Diese Nachricht wird nicht ausgegeben.\")\n",
                "\n",
                "print(\"Die Schleife wurde unterbrochen.\")"
            ]
        },
        {
            "cell_type": "markdown",
            "metadata": {},
            "source": [
                "**Übung 1.4a**: Schreibe eine while-Schleife, die Zahlen von 1 bis 5 ausgibt. Wenn eine Primzahl gefunden wird, soll \"Primzahl gefunden!\" ausgegeben werden. Am Ende soll die Anzahl der gefundenen Primzahlen ausgegeben werden."
            ]
        },
        {
            "cell_type": "code",
            "execution_count": 15,
            "metadata": {},
            "outputs": [
                {
                    "name": "stdout",
                    "output_type": "stream",
                    "text": [
                        "Aktuelle Zahl ist: 1\n",
                        "1 ist leider keine Primzahl\n",
                        "====================\n",
                        "Aktuelle Zahl ist: 2\n",
                        "Yey, Primzahl gefunden\n",
                        "====================\n",
                        "Aktuelle Zahl ist: 3\n",
                        "Yey, Primzahl gefunden\n",
                        "====================\n",
                        "Aktuelle Zahl ist: 4\n",
                        "4 ist leider keine Primzahl\n",
                        "====================\n",
                        "Aktuelle Zahl ist: 5\n",
                        "Yey, Primzahl gefunden\n",
                        "====================\n",
                        "Es wurden 3 gefunden\n"
                    ]
                }
            ],
            "source": [
                "primzahlen = [2,3,5]\n",
                "\n",
                "zahl = 1\n",
                "anzahl_gefundene_primzahlen = 0\n",
                "\n",
                "while zahl <= 5:\n",
                "    print(f\"Aktuelle Zahl ist: {zahl}\")\n",
                "\n",
                "    # Überprüfe, ob Zahl eine Primzahl ist\n",
                "    if zahl in primzahlen:\n",
                "        print(\"Yey, Primzahl gefunden\")\n",
                "        anzahl_gefundene_primzahlen += 1\n",
                "    else:\n",
                "        print(f\"{zahl} ist leider keine Primzahl\")\n",
                "    \n",
                "    zahl += 1\n",
                "    print(\"=\"*20)\n",
                "\n",
                "print(f\"Es wurden {anzahl_gefundene_primzahlen} gefunden\")"
            ]
        },
        {
            "cell_type": "markdown",
            "metadata": {},
            "source": [
                "### 1.5 Endlosschleifen und wie man sie vermeidet\n",
                "Eine Endlosschleife ist eine Schleife, deren Bedingung niemals `False` wird. Hier ein Beispiel (nicht ausführen!):"
            ]
        },
        {
            "cell_type": "code",
            "execution_count": null,
            "metadata": {},
            "outputs": [],
            "source": [
                "while True:\n",
                "    print(\"Diese Nachricht wird endlos wiederholt.\")\n",
                "    # Kein Break-Statement oder anderer Ausstiegsmechanismus"
            ]
        },
        {
            "cell_type": "markdown",
            "metadata": {},
            "source": [
                "In Jupyter Notebooks kannst du eine laufende Zelle mit dem \"Stop\" Button in der Toolbar oder durch Drücken von \"Interrupt Kernel\" unterbrechen.\n",
                "\n",
                "#### Häufige Ursachen für unbeabsichtigte Endlosschleifen\n",
                "\n",
                "1. **Vergessen, den Zähler zu inkrementieren/dekrementieren**\n",
                "2. **Falsche Schleifenbedingung**\n",
                "3. **Falsche Logik innerhalb der Schleife**\n",
                "\n",
                "#### Vermeidung von Endlosschleifen\n",
                "\n",
                "1. **Sicherstellen, dass sich die Schleifenbedingung ändern kann**\n",
                "2. **Notbremse mit Zähler einbauen**"
            ]
        },
        {
            "cell_type": "code",
            "execution_count": null,
            "metadata": {},
            "outputs": [],
            "source": [
                "# Beispiel mit Notbremse\n",
                "max_iterations = 1000\n",
                "count = 0\n",
                "i = 1\n",
                "\n",
                "# Absichtlich problematische Bedingung (i immer > 0)\n",
                "while i > 0 and count < max_iterations:\n",
                "    i += 1  # i wird immer größer, Bedingung bleibt immer True\n",
                "    count += 1  # Zählt, wie oft die Schleife durchlaufen wurde\n",
                "\n",
                "if count >= max_iterations:\n",
                "    print(f\"Schleife wurde nach {max_iterations} Durchläufen abgebrochen (potenzielle Endlosschleife).\")\n",
                "    print(f\"Letzter Wert von i: {i}\")\n",
                "else:\n",
                "    print(f\"Schleife normal beendet nach {count} Durchläufen.\")"
            ]
        },
        {
            "cell_type": "markdown",
            "metadata": {},
            "source": [
                "**Übung 1.5a**: Finde und korrigiere den Fehler im folgenden Code, der zu einer Endlosschleife führen würde:"
            ]
        },
        {
            "cell_type": "code",
            "execution_count": null,
            "metadata": {},
            "outputs": [],
            "source": [
                "def countdown(start):\n",
                "    \"\"\"\n",
                "    Zählt von start bis 0 runter.\n",
                "    ACHTUNG: Enthält einen Fehler, der zu einer Endlosschleife führt!\n",
                "    \"\"\"\n",
                "    while start > 0:\n",
                "        print(start)\n",
                "        # Fehler: start wird nie verändert!\n",
                "    \n",
                "    print(\"Fertig!\")\n",
                "\n",
                "# Nicht ausführen! Korrigiere zuerst den Fehler\n",
                "# countdown(5)"
            ]
        },
        {
            "cell_type": "code",
            "execution_count": 2,
            "metadata": {},
            "outputs": [
                {
                    "name": "stdout",
                    "output_type": "stream",
                    "text": [
                        "5\n",
                        "4\n",
                        "3\n",
                        "2\n",
                        "1\n",
                        "Fertig!\n"
                    ]
                }
            ],
            "source": [
                "# Deine korrigierte Version hier\n",
                "def countdown(start):\n",
                "    \"\"\"\n",
                "    Zählt von start bis 0 runter.\n",
                "    ACHTUNG: Enthält einen Fehler, der zu einer Endlosschleife führt!\n",
                "    \"\"\"\n",
                "    while start > 0:\n",
                "        print(start)\n",
                "        start -= 1\n",
                "        # Fehler: start wird nie verändert!\n",
                "    \n",
                "    print(\"Fertig!\")\n",
                "\n",
                "countdown(5)"
            ]
        },
        {
            "cell_type": "markdown",
            "metadata": {},
            "source": [
                "### 💡 Leitfrage zur Selbstreflexion: \n",
                "Hast du schon einmal versehentlich eine Endlosschleife erstellt? Was war die Ursache und wie hast du das Problem gelöst?"
            ]
        },
        {
            "cell_type": "markdown",
            "metadata": {},
            "source": [
                "### 1.6 Absichtliche Endlosschleifen mit Ausstiegsbedingung\n",
                "\n",
                "Manchmal ist eine Endlosschleife gewollt, z.B. bei interaktiven Programmen. In solchen Fällen muss eine klare Ausstiegsbedingung definiert werden:"
            ]
        },
        {
            "cell_type": "code",
            "execution_count": null,
            "metadata": {},
            "outputs": [],
            "source": [
                "def show_menu():\n",
                "    print(\"\\n==== Menü ====\")\n",
                "    print(\"1. Option 1\")\n",
                "    print(\"2. Option 2\")\n",
                "    print(\"3. Beenden\")\n",
                "    return input(\"Wähle eine Option (1-3): \")\n",
                "\n",
                "# Hauptschleife\n",
                "while True:\n",
                "    choice = show_menu()\n",
                "    \n",
                "    if choice == \"1\":\n",
                "        print(\"Du hast Option 1 gewählt.\")\n",
                "    elif choice == \"2\":\n",
                "        print(\"Du hast Option 2 gewählt.\")\n",
                "    elif choice == \"3\":\n",
                "        print(\"Programm wird beendet.\")\n",
                "        break\n",
                "    else:\n",
                "        print(\"Ungültige Eingabe. Bitte versuche es erneut.\")"
            ]
        },
        {
            "cell_type": "markdown",
            "metadata": {},
            "source": [
                "**Übung 1.6a**: Erweitere das obige Menü um zwei weitere Optionen deiner Wahl und füge entsprechende Aktionen hinzu."
            ]
        },
        {
            "cell_type": "code",
            "execution_count": null,
            "metadata": {},
            "outputs": [],
            "source": [
                "# Deine Lösung hier"
            ]
        },
        {
            "cell_type": "markdown",
            "metadata": {},
            "source": [
                "## 2. For-Schleifen\n",
                "\n",
                "Die `for`-Schleife in Python wird verwendet, um über eine Sequenz (wie Liste, Tupel, Wörterbuch, Set oder String) zu iterieren oder einen Codeblock eine bestimmte Anzahl von Malen auszuführen.\n",
                "\n",
                "### Syntax\n",
                "```python\n",
                "for Variable in Sequenz:\n",
                "    # Anweisungen, die für jedes Element der Sequenz ausgeführt werden\n",
                "```\n",
                "\n",
                "### 💡 Leitfrage: \n",
                "Was sind die Vorteile der for-Schleife gegenüber der while-Schleife?\n",
                "\n",
                "### 2.1 For-Schleife mit range()"
            ]
        },
        {
            "cell_type": "code",
            "execution_count": 22,
            "metadata": {},
            "outputs": [
                {
                    "name": "stdout",
                    "output_type": "stream",
                    "text": [
                        "hallotest\n",
                        "testtest\n",
                        "pythontest\n"
                    ]
                }
            ],
            "source": [
                "liste = [\"hallo\",\"test\", \"python\"]\n",
                "for element in liste:\n",
                "    element += \"test\"\n",
                "    print(element)"
            ]
        },
        {
            "cell_type": "code",
            "execution_count": 27,
            "metadata": {},
            "outputs": [
                {
                    "name": "stdout",
                    "output_type": "stream",
                    "text": [
                        "range(5):\n",
                        "0 1 2 3 4 \n",
                        "\n",
                        "range(2, 6):\n",
                        "2 3 4 5 \n",
                        "\n",
                        "range(1, 10, 2): Ungerade Zahlen von 1 bis 9\n",
                        "1 3 5 7 9 \n",
                        "\n",
                        "range(5, 0, -1): Rückwärtszählen von 5 bis 1\n",
                        "5 4 3 2 1 \n"
                    ]
                }
            ],
            "source": [
                "# range(stop): Erzeugt Zahlen von 0 bis stop-1\n",
                "print(\"range(5):\")\n",
                "# range(5) bedeutet ich habe ein Intervall von Länge 5 und starte bei 0 und gehe immer einen Schritt weiter, d.h. 0, 1, 2, 3, 4\n",
                "# range(5) bedeutet solange i < 5\n",
                "for i in range(5):\n",
                "    print(i, end=\" \")\n",
                "print(\"\\n\")\n",
                "\n",
                "# range(start, stop): Erzeugt Zahlen von start bis stop-1\n",
                "print(\"range(2, 6):\")\n",
                "for i in range(2, 6):\n",
                "    print(i, end=\" \")\n",
                "print(\"\\n\")\n",
                "\n",
                "# range(start, stop, step): Erzeugt Zahlen von start bis stop-1 mit Schrittweite step\n",
                "print(\"range(1, 10, 2): Ungerade Zahlen von 1 bis 9\")\n",
                "for i in range(1, 10, 2):\n",
                "    print(i, end=\" \")\n",
                "print(\"\\n\")\n",
                "\n",
                "# Rückwärtszählen\n",
                "print(\"range(5, 0, -1): Rückwärtszählen von 5 bis 1\")\n",
                "for i in range(5, 0, -1):\n",
                "    print(i, end=\" \")\n",
                "print()"
            ]
        },
        {
            "cell_type": "markdown",
            "metadata": {},
            "source": [
                "**Übung 2.1a**: Verwende eine for-Schleife mit range(), um alle Vielfachen von 3 zwischen 3 und 30 auszugeben."
            ]
        },
        {
            "cell_type": "code",
            "execution_count": null,
            "metadata": {},
            "outputs": [
                {
                    "name": "stdout",
                    "output_type": "stream",
                    "text": [
                        "Vielfaches von 3 und 3 ist dann 9\n",
                        "Vielfaches von 4 und 3 ist dann 12\n",
                        "Vielfaches von 5 und 3 ist dann 15\n",
                        "Vielfaches von 6 und 3 ist dann 18\n",
                        "Vielfaches von 7 und 3 ist dann 21\n",
                        "Vielfaches von 8 und 3 ist dann 24\n",
                        "Vielfaches von 9 und 3 ist dann 27\n",
                        "Vielfaches von 10 und 3 ist dann 30\n",
                        "Vielfaches von 11 und 3 ist dann 33\n",
                        "Vielfaches von 12 und 3 ist dann 36\n",
                        "Vielfaches von 13 und 3 ist dann 39\n",
                        "Vielfaches von 14 und 3 ist dann 42\n",
                        "Vielfaches von 15 und 3 ist dann 45\n",
                        "Vielfaches von 16 und 3 ist dann 48\n",
                        "Vielfaches von 17 und 3 ist dann 51\n",
                        "Vielfaches von 18 und 3 ist dann 54\n",
                        "Vielfaches von 19 und 3 ist dann 57\n",
                        "Vielfaches von 20 und 3 ist dann 60\n",
                        "Vielfaches von 21 und 3 ist dann 63\n",
                        "Vielfaches von 22 und 3 ist dann 66\n",
                        "Vielfaches von 23 und 3 ist dann 69\n",
                        "Vielfaches von 24 und 3 ist dann 72\n",
                        "Vielfaches von 25 und 3 ist dann 75\n",
                        "Vielfaches von 26 und 3 ist dann 78\n",
                        "Vielfaches von 27 und 3 ist dann 81\n",
                        "Vielfaches von 28 und 3 ist dann 84\n",
                        "Vielfaches von 29 und 3 ist dann 87\n",
                        "Vielfaches von 30 und 3 ist dann 90\n"
                    ]
                }
            ],
            "source": [
                "# mein Intervall geht von 3 bis 30, das bedeutet für meine range(3,31) und Standard-Schrittweite von 1, d.h. range(3,31,1)\n",
                "for i in range(3,31,1):\n",
                "    # Vielfaches von 3, also i * 3 rechnen\n",
                "    result = i * 3\n",
                "    print(f\"Vielfaches von {i} und 3 ist dann {result}\")\n",
                "\n"
            ]
        },
        {
            "cell_type": "markdown",
            "metadata": {},
            "source": [
                "Berechne das Quadrat von allen Zahlen zwischen 1 und 10 mit einer for-Schleife."
            ]
        },
        {
            "cell_type": "code",
            "execution_count": null,
            "metadata": {},
            "outputs": [
                {
                    "name": "stdout",
                    "output_type": "stream",
                    "text": [
                        "Das Quadrat von 1 ist 1\n",
                        "Das Quadrat von 3 ist 9\n",
                        "Das Quadrat von 5 ist 25\n",
                        "Das Quadrat von 7 ist 49\n",
                        "Das Quadrat von 9 ist 81\n"
                    ]
                }
            ],
            "source": [
                "# Achtung: Endpunkt wird nicht mitgezählt, range(start, stop) mit stop-1 in dem eigentlichen Durchlauf\n",
                "for i in range(1,11):\n",
                "    result = i ** 2\n",
                "    print(f\"Das Quadrat von {i} ist {result}\")"
            ]
        },
        {
            "cell_type": "markdown",
            "metadata": {},
            "source": [
                "### 2.2 Iteration über Datenstrukturen\n"
            ]
        },
        {
            "cell_type": "code",
            "execution_count": 37,
            "metadata": {},
            "outputs": [
                {
                    "name": "stdout",
                    "output_type": "stream",
                    "text": [
                        "Iteration über eine Liste:\n",
                        "- Apfel\n",
                        "- Banane\n",
                        "- Kirsche\n",
                        "\n",
                        "Iteration über einen String:\n",
                        "P y t h o n \n",
                        "\n",
                        "Iteration über Dictionary-Schlüssel:\n",
                        "name alter beruf \n",
                        "\n",
                        "Iteration über Dictionary-Werte:\n",
                        "Klara 30 Programmierer \n",
                        "\n",
                        "Iteration über Dictionary-Paare:\n",
                        "name: Klara\n",
                        "alter: 30\n",
                        "beruf: Programmierer\n"
                    ]
                }
            ],
            "source": [
                "# Iteration über eine Liste\n",
                "fruits = [\"Apfel\", \"Banane\", \"Kirsche\"]\n",
                "print(\"Iteration über eine Liste:\")\n",
                "for fruit in fruits:\n",
                "    print(f\"- {fruit}\")\n",
                "print()\n",
                "\n",
                "# Iteration über einen String\n",
                "message = \"Python\"\n",
                "print(\"Iteration über einen String:\")\n",
                "for char in message:\n",
                "    print(char, end=\" \")\n",
                "print(\"\\n\")\n",
                "\n",
                "# Iteration über ein Dictionary\n",
                "person = {\"name\": \"Max\", \"alter\": 30, \"beruf\": \"Programmierer\"}\n",
                "print(\"Iteration über Dictionary-Schlüssel:\")\n",
                "for key in person:\n",
                "    if key == \"name\":\n",
                "        person[key] = \"Klara\"\n",
                "    print(key, end=\" \")\n",
                "print(\"\\n\")\n",
                "\n",
                "print(\"Iteration über Dictionary-Werte:\")\n",
                "for value in person.values():\n",
                "    print(value, end=\" \")\n",
                "print(\"\\n\")\n",
                "\n",
                "print(\"Iteration über Dictionary-Paare:\")\n",
                "for i,j in person.items():\n",
                "    print(f\"{i}: {j}\")"
            ]
        },
        {
            "cell_type": "markdown",
            "metadata": {},
            "source": [
                "**Übung 2.2a**: Erstelle ein Dictionary mit den Namen von 5 Ländern als Schlüssel und ihren Hauptstädten als Werte. Iteriere dann über das Dictionary und gib für jedes Land den Satz \"Die Hauptstadt von [Land] ist [Hauptstadt].\" aus."
            ]
        },
        {
            "cell_type": "code",
            "execution_count": null,
            "metadata": {},
            "outputs": [],
            "source": [
                "laender = {\n",
                "    \"Deutschland\": \"Berlin\",\n",
                "    \"Frankreich\": \"Paris\",\n",
                "    \"Italien\": \"Rom\",\n",
                "    \"Spanien\": \"Madrid\",\n",
                "    \"Österreich\": \"Wien\"\n",
                "}\n",
                "\n",
                "for land, hauptstadt in laender.items():\n",
                "    print(f\"Die Hauptstadt von {land} ist {hauptstadt}.\")"
            ]
        },
        {
            "cell_type": "markdown",
            "metadata": {},
            "source": [
                "### 2.3 For-Schleife mit enumerate()\n",
                "\n",
                "Die Funktion `enumerate()` fügt einem iterierbaren Objekt einen Zähler hinzu und gibt Paare aus Index und Wert zurück."
            ]
        },
        {
            "cell_type": "code",
            "execution_count": 38,
            "metadata": {},
            "outputs": [
                {
                    "name": "stdout",
                    "output_type": "stream",
                    "text": [
                        "enumerate() mit Standardindex (0):\n",
                        "Index 0: Apfel\n",
                        "Index 1: Banane\n",
                        "Index 2: Kirsche\n",
                        "\n",
                        "enumerate() mit Startindex 1:\n",
                        "Frucht 1: Apfel\n",
                        "Frucht 2: Banane\n",
                        "Frucht 3: Kirsche\n"
                    ]
                }
            ],
            "source": [
                "fruits = [\"Apfel\", \"Banane\", \"Kirsche\"]\n",
                "\n",
                "# Mit Standardindex beginnend bei 0\n",
                "print(\"enumerate() mit Standardindex (0):\")\n",
                "for index, fruit in enumerate(fruits):\n",
                "    print(f\"Index {index}: {fruit}\")\n",
                "print()\n",
                "\n",
                "# Mit angegebenem Startindex\n",
                "print(\"enumerate() mit Startindex 1:\")\n",
                "for index, fruit in enumerate(fruits, 1):\n",
                "    print(f\"Frucht {index}: {fruit}\")"
            ]
        },
        {
            "cell_type": "markdown",
            "metadata": {},
            "source": [
                "**Übung 2.3a**: Erstelle eine Liste mit den Namen deiner Lieblingsfilme. Verwende enumerate() mit einem Startindex von 1, um eine nummerierte Liste auszugeben."
            ]
        },
        {
            "cell_type": "code",
            "execution_count": null,
            "metadata": {},
            "outputs": [],
            "source": [
                "filme = [\"The Matrix\", \"Inception\", \"Interstellar\", \"Der Herr der Ringe\", \"Star Wars\"]\n",
                "\n",
                "for index, film in enumerate(filme, 1):\n",
                "    print(f\"{index}. {film}\")"
            ]
        },
        {
            "cell_type": "markdown",
            "metadata": {},
            "source": [
                "### 2.4 For-Schleife mit else-Klausel\n",
                "\n",
                "Ähnlich wie bei der `while`-Schleife kann auch die `for`-Schleife eine `else`-Klausel haben."
            ]
        },
        {
            "cell_type": "code",
            "execution_count": 40,
            "metadata": {},
            "outputs": [
                {
                    "name": "stdout",
                    "output_type": "stream",
                    "text": [
                        "1 2 3 4 5 \n",
                        "Schleife normal beendet.\n",
                        "1 2 3 \n",
                        "Schleife wird abgebrochen.\n"
                    ]
                }
            ],
            "source": [
                "# Normale Beendigung\n",
                "for i in range(1, 6):\n",
                "    print(i, end=\" \")\n",
                "else:\n",
                "    print(\"\\nSchleife normal beendet.\")\n",
                "\n",
                "# Vorzeitige Beendigung mit break\n",
                "for i in range(1, 6):\n",
                "    print(i, end=\" \")\n",
                "    if i == 3:\n",
                "        print(\"\\nSchleife wird abgebrochen.\")\n",
                "        break\n",
                "else:\n",
                "    print(\"Diese Nachricht wird nicht ausgegeben.\")"
            ]
        },
        {
            "cell_type": "markdown",
            "metadata": {},
            "source": [
                "### 2.5 Schleifensteuerung (break, continue)\n",
                "\n",
                "Python bietet Anweisungen zur Steuerung des Schleifenverhaltens: `break` und `continue`."
            ]
        },
        {
            "cell_type": "code",
            "execution_count": 48,
            "metadata": {},
            "outputs": [
                {
                    "name": "stdout",
                    "output_type": "stream",
                    "text": [
                        "Beispiel für break:\n",
                        "Überprüfe 4\n",
                        "Überprüfe 7\n",
                        "Überprüfe 2\n",
                        "Gefunden: 9\n",
                        "\n",
                        "Beispiel für continue (ungerade Zahlen von 1 bis 10):\n",
                        "1 3 5 7 9 \n"
                    ]
                }
            ],
            "source": [
                "# break-Anweisung: Beendet die Schleife sofort\n",
                "print(\"Beispiel für break:\")\n",
                "numbers = [4, 7, 2, 9, 1, 5]\n",
                "search_for = 9\n",
                "\n",
                "for num in numbers:\n",
                "    if num == search_for:\n",
                "        print(f\"Gefunden: {search_for}\")\n",
                "        break\n",
                "    print(f\"Überprüfe {num}\")\n",
                "print()\n",
                "\n",
                "# continue-Anweisung: Überspringt den Rest des aktuellen Durchlaufs\n",
                "print(\"Beispiel für continue (ungerade Zahlen von 1 bis 10):\")\n",
                "for i in range(1, 11):\n",
                "    if i % 2 == 0:  # Überspringen, wenn i gerade ist\n",
                "        continue\n",
                "    print(i, end=\" \")\n",
                "print()"
            ]
        },
        {
            "cell_type": "markdown",
            "metadata": {},
            "source": [
                "**Übung 2.5a**: Schreibe eine Schleife, die über die Zahlen von 1 bis 20 iteriert. Gib \"FizzBuzz\" aus, wenn die Zahl durch 3 und 5 teilbar ist, \"Fizz\" wenn sie nur durch 3 teilbar ist, \"Buzz\" wenn sie nur durch 5 teilbar ist, und sonst die Zahl selbst."
            ]
        },
        {
            "cell_type": "code",
            "execution_count": null,
            "metadata": {},
            "outputs": [],
            "source": [
                "for i in range(1, 21):\n",
                "    if i % 3 == 0 and i % 5 == 0:\n",
                "        print(\"FizzBuzz\")\n",
                "    elif i % 3 == 0:\n",
                "        print(\"Fizz\")\n",
                "    elif i % 5 == 0:\n",
                "        print(\"Buzz\")\n",
                "    else:\n",
                "        print(i)"
            ]
        },
        {
            "cell_type": "markdown",
            "metadata": {},
            "source": [
                "**Übung 2.5b**: Schreibe eine Schleife, die über eine Liste von Wörtern iteriert und nur die Wörter ausgibt, die mit einem Vokal beginnen. Verwende dafür die continue-Anweisung."
            ]
        },
        {
            "cell_type": "code",
            "execution_count": null,
            "metadata": {},
            "outputs": [],
            "source": [
                "woerter = [\"Apfel\", \"Banane\", \"Orange\", \"Erdbeere\", \"Ananas\", \"Birne\", \"Eiche\", \"Ulme\"]\n",
                "vokale = \"aeiouAEIOU\"\n",
                "\n",
                "for wort in woerter:\n",
                "    if wort[0] not in vokale:\n",
                "        continue\n",
                "    print(wort)"
            ]
        },
        {
            "cell_type": "markdown",
            "metadata": {},
            "source": [
                "## 3. Verschachtelte Schleifen\n",
                "\n",
                "Verschachtelte Schleifen sind Schleifen innerhalb von Schleifen. Sie ermöglichen die Verarbeitung mehrdimensionaler Daten oder das Durchführen komplexerer Iterationen.\n",
                "\n",
                "### 💡 Leitfrage: \n",
                "Wann sind verschachtelte Schleifen sinnvoll und worauf sollte man bei ihrer Verwendung achten?\n",
                "\n",
                "### 3.1 Grundkonzept"
            ]
        },
        {
            "cell_type": "code",
            "execution_count": 49,
            "metadata": {},
            "outputs": [
                {
                    "name": "stdout",
                    "output_type": "stream",
                    "text": [
                        "Äußere Schleife: i=0\n",
                        "  Innere Schleife: j=0\n",
                        "  Innere Schleife: j=1\n",
                        "\n",
                        "Äußere Schleife: i=1\n",
                        "  Innere Schleife: j=0\n",
                        "  Innere Schleife: j=1\n",
                        "\n",
                        "Äußere Schleife: i=2\n",
                        "  Innere Schleife: j=0\n",
                        "  Innere Schleife: j=1\n",
                        "\n"
                    ]
                }
            ],
            "source": [
                "# Einfache verschachtelte Schleife\n",
                "for i in range(3):  # Äußere Schleife\n",
                "    print(f\"Äußere Schleife: i={i}\")\n",
                "    for j in range(2):  # Innere Schleife\n",
                "        print(f\"  Innere Schleife: j={j}\")\n",
                "    print()  # Leerzeile für bessere Lesbarkeit"
            ]
        },
        {
            "cell_type": "code",
            "execution_count": null,
            "metadata": {},
            "outputs": [
                {
                    "name": "stdout",
                    "output_type": "stream",
                    "text": [
                        "Es ist eine Minute vergangen\n",
                        "Es ist eine Sekunde vergangen\n",
                        "Es ist eine Sekunde vergangen\n",
                        "Es ist eine Sekunde vergangen\n",
                        "Es ist eine Sekunde vergangen\n",
                        "Es ist eine Minute vergangen\n",
                        "Es ist eine Sekunde vergangen\n",
                        "Es ist eine Sekunde vergangen\n",
                        "Es ist eine Sekunde vergangen\n",
                        "Es ist eine Sekunde vergangen\n",
                        "Es ist eine Minute vergangen\n",
                        "Es ist eine Sekunde vergangen\n",
                        "Es ist eine Sekunde vergangen\n",
                        "Es ist eine Sekunde vergangen\n",
                        "Es ist eine Sekunde vergangen\n",
                        "Es ist eine Minute vergangen\n",
                        "Es ist eine Sekunde vergangen\n",
                        "Es ist eine Sekunde vergangen\n",
                        "Es ist eine Sekunde vergangen\n",
                        "Es ist eine Sekunde vergangen\n"
                    ]
                }
            ],
            "source": [
                "for minute in range(1,5):\n",
                "    print(\"Es ist eine Minute vergangen\")\n",
                "    for sekunde in range(1,5):\n",
                "        print(\"Es ist eine Sekunde vergangen\")"
            ]
        },
        {
            "cell_type": "markdown",
            "metadata": {},
            "source": [
                "Bei jeder Iteration der äußeren Schleife wird die innere Schleife vollständig durchlaufen. In diesem Beispiel:\n",
                "\n",
                "- Die äußere Schleife läuft 3-mal (i von 0 bis 2).\n",
                "- Für jeden Wert von i läuft die innere Schleife 2-mal (j von 0 bis 1).\n",
                "- Insgesamt werden 3 × 2 = 6 Iterationen durchgeführt.\n",
                "\n",
                "### 3.2 Praktische Beispiele\n"
            ]
        },
        {
            "cell_type": "code",
            "execution_count": null,
            "metadata": {},
            "outputs": [],
            "source": [
                "# Beispiel 1: Multiplikationstabelle\n",
                "print(\"Multiplikationstabelle (1-5):\")\n",
                "for i in range(1, 6):\n",
                "    for j in range(1, 6):\n",
                "        print(f\"{i} × {j} = {i * j}\")\n",
                "    print(\"-----\")  # Trenner zwischen den Zeilen"
            ]
        },
        {
            "cell_type": "code",
            "execution_count": null,
            "metadata": {},
            "outputs": [],
            "source": [
                "# Beispiel 2: Verarbeitung einer zweidimensionalen Matrix\n",
                "matrix = [\n",
                "    [1, 2, 3],\n",
                "    [4, 5, 6],\n",
                "    [7, 8, 9]\n",
                "]\n",
                "\n",
                "print(\"Matrix ausgeben:\")\n",
                "for row in matrix:\n",
                "    for element in row:\n",
                "        print(element, end=\" \")\n",
                "    print()  # Neue Zeile nach jeder Reihe\n",
                "\n",
                "print(\"\\nSumme aller Elemente berechnen:\")\n",
                "total = 0\n",
                "for row in matrix:\n",
                "    for element in row:\n",
                "        total += element\n",
                "print(f\"Die Summe aller Elemente ist: {total}\")"
            ]
        },
        {
            "cell_type": "code",
            "execution_count": null,
            "metadata": {},
            "outputs": [],
            "source": [
                "# Beispiel 3: Koordinatenpaare generieren\n",
                "print(\"Koordinatenpaare:\")\n",
                "for x in range(1, 4):\n",
                "    for y in range(1, 3):\n",
                "        print(f\"({x}, {y})\", end=\" \")\n",
                "    print()  # Neue Zeile nach jeder x-Koordinate"
            ]
        },
        {
            "cell_type": "markdown",
            "metadata": {},
            "source": [
                "**Übung 3.2a**: Schreibe eine verschachtelte Schleife, die ein Schachbrettmuster ausgibt, wobei '■' für schwarze Felder und '□' für weiße Felder steht. Das Brett soll 8x8 Felder haben."
            ]
        },
        {
            "cell_type": "code",
            "execution_count": null,
            "metadata": {},
            "outputs": [],
            "source": [
                "for i in range(8):\n",
                "    for j in range(8):\n",
                "        # Wenn i+j gerade ist, dann weißes Feld, sonst schwarzes Feld\n",
                "        if (i + j) % 2 == 0:\n",
                "            print(\"□\", end=\"\")\n",
                "        else:\n",
                "            print(\"■\", end=\"\")\n",
                "    print()  # Neue Zeile nach jeder Reihe"
            ]
        },
        {
            "cell_type": "markdown",
            "metadata": {},
            "source": [
                "### 3.3 break und continue in verschachtelten Schleifen\n",
                "\n",
                "Die Anweisungen `break` und `continue` wirken nur auf die unmittelbar umgebende Schleife."
            ]
        },
        {
            "cell_type": "code",
            "execution_count": null,
            "metadata": {},
            "outputs": [],
            "source": [
                "# break in der inneren Schleife\n",
                "print(\"break in der inneren Schleife:\")\n",
                "for i in range(3):\n",
                "    print(f\"Äußere Schleife i={i}\")\n",
                "    for j in range(3):\n",
                "        if j == 2:\n",
                "            print(f\"  j={j} erreicht, breche innere Schleife ab\")\n",
                "            break  # Bricht nur die innere Schleife ab\n",
                "        print(f\"  Innere Schleife j={j}\")\n",
                "    print()  # Leerzeile"
            ]
        },
        {
            "cell_type": "code",
            "execution_count": null,
            "metadata": {},
            "outputs": [],
            "source": [
                "# Aus beiden Schleifen ausbrechen\n",
                "print(\"Aus beiden Schleifen ausbrechen:\")\n",
                "found = False\n",
                "for i in range(3):\n",
                "    for j in range(3):\n",
                "        if i == 1 and j == 1:\n",
                "            print(f\"Gefunden bei i={i}, j={j}\")\n",
                "            found = True\n",
                "            break  # Bricht die innere Schleife ab\n",
                "        print(f\"Überprüfe i={i}, j={j}\")\n",
                "    if found:\n",
                "        print(\"Äußere Schleife wird auch abgebrochen.\")\n",
                "        break  # Bricht die äußere Schleife ab"
            ]
        },
        {
            "cell_type": "markdown",
            "metadata": {},
            "source": [
                "**Übung 3.3a**: Schreibe eine verschachtelte Schleife, die die Primzahlen zwischen 10 und 50 findet. Verwende die innere Schleife, um zu prüfen, ob eine Zahl durch einen kleineren Wert teilbar ist, und breche sie mit `break` ab, sobald ein Teiler gefunden wurde."
            ]
        },
        {
            "cell_type": "code",
            "execution_count": null,
            "metadata": {},
            "outputs": [],
            "source": [
                "print(\"Primzahlen zwischen 10 und 50:\")\n",
                "for num in range(10, 51):\n",
                "    # Primzahlen sind nur durch 1 und sich selbst teilbar\n",
                "    is_prime = True\n",
                "    for divisor in range(2, int(num ** 0.5) + 1):\n",
                "        if num % divisor == 0:\n",
                "            is_prime = False\n",
                "            break\n",
                "    \n",
                "    if is_prime:\n",
                "        print(num, end=\" \")\n",
                "print()"
            ]
        },
        {
            "cell_type": "markdown",
            "metadata": {},
            "source": [
                "### 3.4 Muster mit verschachtelten Schleifen erstellen\n"
            ]
        },
        {
            "cell_type": "code",
            "execution_count": 52,
            "metadata": {},
            "outputs": [
                {
                    "name": "stdout",
                    "output_type": "stream",
                    "text": [
                        "Dreieck aus Sternen:\n",
                        "*\n",
                        "**\n",
                        "***\n",
                        "****\n",
                        "*****\n"
                    ]
                }
            ],
            "source": [
                "# Dreieck aus Sternen\n",
                "rows = 5\n",
                "print(\"Dreieck aus Sternen:\")\n",
                "for i in range(1, rows + 1):\n",
                "    for j in range(i):\n",
                "        print(\"*\", end=\"\")\n",
                "    print()  # Neue Zeile"
            ]
        },
        {
            "cell_type": "code",
            "execution_count": 53,
            "metadata": {},
            "outputs": [
                {
                    "name": "stdout",
                    "output_type": "stream",
                    "text": [
                        "Umgekehrtes Dreieck:\n",
                        "*****\n",
                        "****\n",
                        "***\n",
                        "**\n",
                        "*\n"
                    ]
                }
            ],
            "source": [
                "# Umgekehrtes Dreieck\n",
                "rows = 5\n",
                "print(\"Umgekehrtes Dreieck:\")\n",
                "for i in range(rows, 0, -1):\n",
                "    for j in range(i):\n",
                "        print(\"*\", end=\"\")\n",
                "    print()"
            ]
        },
        {
            "cell_type": "code",
            "execution_count": 54,
            "metadata": {},
            "outputs": [
                {
                    "name": "stdout",
                    "output_type": "stream",
                    "text": [
                        "Pyramide:\n",
                        "    *\n",
                        "   ***\n",
                        "  *****\n",
                        " *******\n",
                        "*********\n"
                    ]
                }
            ],
            "source": [
                "# Pyramide\n",
                "rows = 5\n",
                "print(\"Pyramide:\")\n",
                "for i in range(1, rows + 1):\n",
                "    # Leerzeichen vor den Sternen\n",
                "    for j in range(rows - i):\n",
                "        print(\" \", end=\"\")\n",
                "    # Sterne\n",
                "    for j in range(2 * i - 1):\n",
                "        print(\"*\", end=\"\")\n",
                "    print()"
            ]
        },
        {
            "cell_type": "markdown",
            "metadata": {},
            "source": [
                "**Übung 3.4a**: Erstelle eine Raute (Diamant) aus Sternen mit einer Höhe von 7 Zeilen.\n"
            ]
        },
        {
            "cell_type": "code",
            "execution_count": null,
            "metadata": {},
            "outputs": [],
            "source": [
                "rows = 7\n",
                "middle = rows // 2\n",
                "\n",
                "# Obere Hälfte der Raute (inkl. Mitte)\n",
                "for i in range(middle + 1):\n",
                "    spaces = middle - i\n",
                "    stars = 2 * i + 1\n",
                "    print(\" \" * spaces + \"*\" * stars)\n",
                "\n",
                "# Untere Hälfte der Raute\n",
                "for i in range(middle - 1, -1, -1):\n",
                "    spaces = middle - i\n",
                "    stars = 2 * i + 1\n",
                "    print(\" \" * spaces + \"*\" * stars)"
            ]
        },
        {
            "cell_type": "markdown",
            "metadata": {},
            "source": [
                "## 4. Praktische Beispiele\n",
                "\n",
                "In diesem Abschnitt werden wir komplexere Beispiele und Anwendungen von Schleifen betrachten.\n",
                "\n",
                "### 💡 Leitfrage: \n",
                "Wie kannst du entscheiden, welche Art von Schleife für ein bestimmtes Problem am besten geeignet ist?\n",
                "\n",
                "### 4.1 Zahlenraten-Spiel"
            ]
        },
        {
            "cell_type": "code",
            "execution_count": null,
            "metadata": {},
            "outputs": [],
            "source": [
                "import random\n",
                "\n",
                "def number_guessing_game():\n",
                "    \"\"\"Einfaches Zahlenraten-Spiel mit while-Schleife.\"\"\"\n",
                "    # Zufällige Zahl zwischen 1 und 100 generieren\n",
                "    number_to_guess = random.randint(1, 100)\n",
                "    attempts = 0\n",
                "    max_attempts = 10\n",
                "    \n",
                "    print(\"Willkommen beim Zahlenraten-Spiel!\")\n",
                "    print(f\"Errate die Zahl zwischen 1 und 100. Du hast {max_attempts} Versuche.\")\n",
                "    \n",
                "    # Simulierte Eingaben für das Beispiel\n",
                "    test_guesses = [50, 75, 62, 56, 59]\n",
                "    \n",
                "    # Für die Demonstration verwenden wir eine vordefinierte Zahl statt einer zufälligen\n",
                "    number_to_guess = 59\n",
                "    print(f\"[Hinweis für die Demonstration: Die zu erratende Zahl ist {number_to_guess}]\")\n",
                "    \n",
                "    while attempts < max_attempts:\n",
                "        # In einer echten Anwendung würden wir input() verwenden\n",
                "        # guess = int(input(f\"Versuch {attempts + 1}: Rate eine Zahl: \"))\n",
                "        \n",
                "        # Für die Demonstration verwenden wir vorgegebene Werte\n",
                "        if attempts < len(test_guesses):\n",
                "            guess = test_guesses[attempts]\n",
                "        else:\n",
                "            guess = number_to_guess  # Letzter Versuch ist korrekt\n",
                "            \n",
                "        attempts += 1\n",
                "        print(f\"Versuch {attempts}: Du rätst {guess}\")\n",
                "        \n",
                "        if guess < number_to_guess:\n",
                "            print(\"Zu niedrig!\")\n",
                "        elif guess > number_to_guess:\n",
                "            print(\"Zu hoch!\")\n",
                "        else:\n",
                "            print(f\"Glückwunsch! Du hast die Zahl {number_to_guess} in {attempts} Versuchen erraten!\")\n",
                "            break\n",
                "    \n",
                "    if attempts >= max_attempts and guess != number_to_guess:\n",
                "        print(f\"Game over! Die gesuchte Zahl war {number_to_guess}.\")\n",
                "\n",
                "# Spiel starten\n",
                "number_guessing_game()"
            ]
        },
        {
            "cell_type": "markdown",
            "metadata": {},
            "source": [
                "\n",
                "**Übung 4.1a**: Erweitere das Zahlenraten-Spiel, indem du dem Spieler nach jedem Versuch mitteilst, wie weit er von der gesuchten Zahl entfernt ist (z.B. \"Du bist nur 5 Zahlen entfernt!\")."
            ]
        },
        {
            "cell_type": "code",
            "execution_count": null,
            "metadata": {},
            "outputs": [],
            "source": [
                "import random\n",
                "\n",
                "def number_guessing_game():\n",
                "    number_to_guess = random.randint(1, 100)\n",
                "    attempts = 0\n",
                "    max_attempts = 10\n",
                "    \n",
                "    print(\"Willkommen beim Zahlenraten-Spiel!\")\n",
                "    print(f\"Errate die Zahl zwischen 1 und 100. Du hast {max_attempts} Versuche.\")\n",
                "    \n",
                "    while attempts < max_attempts:\n",
                "        guess = int(input(f\"Versuch {attempts + 1}: Rate eine Zahl: \"))\n",
                "        attempts += 1\n",
                "        \n",
                "        if guess < number_to_guess:\n",
                "            distance = number_to_guess - guess\n",
                "            print(\"Zu niedrig!\")\n",
                "        elif guess > number_to_guess:\n",
                "            distance = guess - number_to_guess\n",
                "            print(\"Zu hoch!\")\n",
                "        else:\n",
                "            print(f\"Glückwunsch! Du hast die Zahl {number_to_guess} in {attempts} Versuchen erraten!\")\n",
                "            break\n",
                "        \n",
                "        # Feedback zur Entfernung\n",
                "        print(f\"Du bist {distance} Zahlen von der gesuchten Zahl entfernt!\")\n",
                "    \n",
                "    if attempts >= max_attempts and guess != number_to_guess:\n",
                "        print(f\"Game over! Die gesuchte Zahl war {number_to_guess}.\")"
            ]
        },
        {
            "cell_type": "markdown",
            "metadata": {},
            "source": [
                "### 4.2 Fibonacci-Sequenz"
            ]
        },
        {
            "cell_type": "code",
            "execution_count": null,
            "metadata": {},
            "outputs": [],
            "source": [
                "def fibonacci(n):\n",
                "    \"\"\"Gibt die ersten n Fibonacci-Zahlen zurück.\"\"\"\n",
                "    fib_sequence = [0, 1]\n",
                "\n",
                "    for i in range(2, n):\n",
                "        next_fib = fib_sequence[i-1] + fib_sequence[i-2]\n",
                "        fib_sequence.append(next_fib)\n",
                "\n",
                "    return fib_sequence[:n]  # Falls n < 2, geben wir nur die ersten n Elemente zurück\n",
                "\n",
                "# Teste die Funktion\n",
                "n = 10\n",
                "fib_numbers = fibonacci(n)\n",
                "print(f\"Die ersten {n} Fibonacci-Zahlen sind:\")\n",
                "for i, num in enumerate(fib_numbers, 1):\n",
                "    print(f\"Fibonacci({i}) = {num}\")"
            ]
        },
        {
            "cell_type": "markdown",
            "metadata": {},
            "source": [
                "**Übung 4.2a**: Implementiere eine alternative Fibonacci-Funktion, die eine while-Schleife verwendet und alle Fibonacci-Zahlen unter 1000 berechnet."
            ]
        },
        {
            "cell_type": "code",
            "execution_count": null,
            "metadata": {},
            "outputs": [],
            "source": [
                "def fibonacci_under_1000():\n",
                "    \"\"\"Berechnet alle Fibonacci-Zahlen unter 1000.\"\"\"\n",
                "    fib_sequence = [0, 1]\n",
                "    \n",
                "    a, b = 0, 1\n",
                "    while b < 1000:\n",
                "        print(b, end=\" \")\n",
                "        a, b = b, a + b\n",
                "    \n",
                "    return fib_sequence\n",
                "\n",
                "fibonacci_under_1000()"
            ]
        },
        {
            "cell_type": "markdown",
            "metadata": {},
            "source": [
                "### 4.3 Textanalyse"
            ]
        },
        {
            "cell_type": "code",
            "execution_count": null,
            "metadata": {},
            "outputs": [],
            "source": [
                "def analyze_text(text):\n",
                "    \"\"\"Analysiert einen Text und gibt Statistiken zurück.\"\"\"\n",
                "    # Zähle Vorkommen jedes Buchstabens (case-insensitive)\n",
                "    char_count = {}\n",
                "    for char in text.lower():\n",
                "        if char.isalpha():  # Nur Buchstaben zählen\n",
                "            if char in char_count:\n",
                "                char_count[char] += 1\n",
                "            else:\n",
                "                char_count[char] = 1\n",
                "\n",
                "    # Finde das häufigste Wort\n",
                "    words = text.lower().split()\n",
                "    cleaned_words = []\n",
                "    for word in words:\n",
                "        # Entferne Satzzeichen am Anfang und Ende des Wortes\n",
                "        cleaned_word = word.strip(\".,!?;:'\\\"()\")\n",
                "        if cleaned_word:  # Nur nicht-leere Wörter hinzufügen\n",
                "            cleaned_words.append(cleaned_word)\n",
                "\n",
                "    word_count = {}\n",
                "    for word in cleaned_words:\n",
                "        if word in word_count:\n",
                "            word_count[word] += 1\n",
                "        else:\n",
                "            word_count[word] = 1\n",
                "\n",
                "    most_common_word = max(word_count, key=word_count.get) if word_count else \"\"\n",
                "\n",
                "    # Rückgabe der Statistiken\n",
                "    return {\n",
                "        \"character_count\": len([c for c in text if not c.isspace()]),\n",
                "        \"word_count\": len(cleaned_words),\n",
                "        \"most_common_letter\": max(char_count, key=char_count.get) if char_count else \"\",\n",
                "        \"most_common_word\": most_common_word,\n",
                "        \"letter_frequencies\": char_count,\n",
                "        \"word_frequencies\": word_count\n",
                "    }\n",
                "\n",
                "# Teste die Funktion\n",
                "sample_text = \"\"\"\n",
                "Python ist eine interpretierte Hochsprache,\n",
                "die oft für allgemeine Programmierung verwendet wird.\n",
                "Python legt Wert auf Codelesbarkeit und erlaubt es Programmierern,\n",
                "Konzepte mit weniger Codezeilen als in anderen Sprachen wie C++ oder Java auszudrücken.\n",
                "\"\"\"\n",
                "\n",
                "analysis = analyze_text(sample_text)\n",
                "\n",
                "print(\"Textanalyse:\")\n",
                "print(f\"Anzahl der Zeichen (ohne Leerzeichen): {analysis['character_count']}\")\n",
                "print(f\"Anzahl der Wörter: {analysis['word_count']}\")\n",
                "print(f\"Häufigster Buchstabe: '{analysis['most_common_letter']}' (kommt {analysis['letter_frequencies'][analysis['most_common_letter']]} mal vor)\")\n",
                "print(f\"Häufigstes Wort: '{analysis['most_common_word']}' (kommt {analysis['word_frequencies'][analysis['most_common_word']]} mal vor)\")\n",
                "\n",
                "print(\"\\nBuchstabenhäufigkeiten (die 5 häufigsten):\")\n",
                "sorted_letters = sorted(analysis['letter_frequencies'].items(), key=lambda x: x[1], reverse=True)\n",
                "for char, count in sorted_letters[:5]:\n",
                "    print(f\"'{char}': {count}\")"
            ]
        },
        {
            "cell_type": "markdown",
            "metadata": {},
            "source": [
                "**Übung 4.3a**: Erweitere die Textanalyse-Funktion, um auch die durchschnittliche Wortlänge zu berechnen und das längste Wort im Text zu finden."
            ]
        },
        {
            "cell_type": "code",
            "execution_count": null,
            "metadata": {},
            "outputs": [],
            "source": [
                "def analyze_text(text):\n",
                "    \"\"\"Analysiert einen Text und gibt erweiterte Statistiken zurück.\"\"\"\n",
                "    # Zähle Vorkommen jedes Buchstabens (case-insensitive)\n",
                "    char_count = {}\n",
                "    for char in text.lower():\n",
                "        if char.isalpha():  # Nur Buchstaben zählen\n",
                "            if char in char_count:\n",
                "                char_count[char] += 1\n",
                "            else:\n",
                "                char_count[char] = 1\n",
                "\n",
                "    # Finde das häufigste Wort und die Wortlängen\n",
                "    words = text.lower().split()\n",
                "    cleaned_words = []\n",
                "    total_length = 0\n",
                "    longest_word = \"\"\n",
                "    \n",
                "    for word in words:\n",
                "        # Entferne Satzzeichen am Anfang und Ende des Wortes\n",
                "        cleaned_word = word.strip(\".,!?;:'\\\"()\")\n",
                "        if cleaned_word:  # Nur nicht-leere Wörter hinzufügen\n",
                "            cleaned_words.append(cleaned_word)\n",
                "            total_length += len(cleaned_word)\n",
                "            \n",
                "            # Prüfe, ob aktuelles Wort länger ist als das bisher längste\n",
                "            if len(cleaned_word) > len(longest_word):\n",
                "                longest_word = cleaned_word\n",
                "\n",
                "    word_count = {}\n",
                "    for word in cleaned_words:\n",
                "        if word in word_count:\n",
                "            word_count[word] += 1\n",
                "        else:\n",
                "            word_count[word] = 1\n",
                "\n",
                "    avg_word_length = total_length / len(cleaned_words) if cleaned_words else 0\n",
                "    most_common_word = max(word_count, key=word_count.get) if word_count else \"\"\n",
                "\n",
                "    # Rückgabe der Statistiken\n",
                "    return {\n",
                "        \"character_count\": len([c for c in text if not c.isspace()]),\n",
                "        \"word_count\": len(cleaned_words),\n",
                "        \"most_common_letter\": max(char_count, key=char_count.get) if char_count else \"\",\n",
                "        \"most_common_word\": most_common_word,\n",
                "        \"average_word_length\": avg_word_length,\n",
                "        \"longest_word\": longest_word,\n",
                "        \"letter_frequencies\": char_count,\n",
                "        \"word_frequencies\": word_count\n",
                "    }"
            ]
        },
        {
            "cell_type": "markdown",
            "metadata": {},
            "source": [
                "### 4.4 Euklidischer Algorithmus (GGT)"
            ]
        },
        {
            "cell_type": "code",
            "execution_count": null,
            "metadata": {},
            "outputs": [],
            "source": [
                "def gcd(a, b):\n",
                "    \"\"\"Berechnet den größten gemeinsamen Teiler (GGT) von a und b.\"\"\"\n",
                "    while b:\n",
                "        a, b = b, a % b\n",
                "    return a\n",
                "\n",
                "# Teste die Funktion mit einigen Beispielen\n",
                "test_cases = [(48, 18), (17, 5), (100, 75), (24, 36)]\n",
                "\n",
                "for num1, num2 in test_cases:\n",
                "    result = gcd(num1, num2)\n",
                "    print(f\"Der GGT von {num1} und {num2} ist {result}\")"
            ]
        },
        {
            "cell_type": "markdown",
            "metadata": {},
            "source": [
                "**Übung 4.4a**: Implementiere eine Funktion, die den kleinsten gemeinsamen Vielfachen (KGV) zweier Zahlen berechnet. Hinweis: Du kannst den GGT verwenden, denn KGV(a,b) = (a * b) / GGT(a,b)."
            ]
        },
        {
            "cell_type": "code",
            "execution_count": null,
            "metadata": {},
            "outputs": [],
            "source": [
                "def gcd(a, b):\n",
                "    \"\"\"Berechnet den größten gemeinsamen Teiler (GGT) von a und b.\"\"\"\n",
                "    while b:\n",
                "        a, b = b, a % b\n",
                "    return a\n",
                "\n",
                "def lcm(a, b):\n",
                "    \"\"\"Berechnet den kleinsten gemeinsamen Vielfachen (KGV) von a und b.\"\"\"\n",
                "    return (a * b) // gcd(a, b)\n",
                "\n",
                "# Teste die Funktion mit einigen Beispielen\n",
                "test_cases = [(4, 6), (15, 20), (8, 12), (7, 13)]\n",
                "\n",
                "for num1, num2 in test_cases:\n",
                "    result = lcm(num1, num2)\n",
                "    print(f\"Der KGV von {num1} und {num2} ist {result}\")"
            ]
        },
        {
            "cell_type": "markdown",
            "metadata": {},
            "source": [
                "## 5. Effizienz bei Schleifen\n",
                "\n",
                "Die Effizienz von Schleifen ist ein wichtiger Aspekt der Programmierung, insbesondere bei großen Datenmengen oder ressourcenintensiven Aufgaben.\n",
                "\n",
                "### 💡 Leitfrage: \n",
                "Wie kann man die Laufzeit von Schleifen optimieren?"
            ]
        },
        {
            "cell_type": "markdown",
            "metadata": {},
            "source": [
                "### 5.1 Richtlinien für effiziente Schleifen"
            ]
        },
        {
            "cell_type": "code",
            "execution_count": null,
            "metadata": {},
            "outputs": [],
            "source": [
                "# Beispiel 1: Berechnung außerhalb der Schleife vermeidet wiederholte Berechnungen\n",
                "\n",
                "import time\n",
                "import math\n",
                "\n",
                "# Ineffizient - Berechnung innerhalb der Schleife\n",
                "def inefficient_approach(n):\n",
                "    start_time = time.time()\n",
                "    result = 0\n",
                "    for i in range(n):\n",
                "        result += math.sqrt(1234567)  # Wird in jeder Iteration neu berechnet\n",
                "    end_time = time.time()\n",
                "    return result, end_time - start_time\n",
                "\n",
                "# Effizient - Berechnung außerhalb der Schleife\n",
                "def efficient_approach(n):\n",
                "    start_time = time.time()\n",
                "    sqrt_value = math.sqrt(1234567)  # Nur einmal berechnen\n",
                "    result = 0\n",
                "    for i in range(n):\n",
                "        result += sqrt_value  # Verwende bereits berechneten Wert\n",
                "    end_time = time.time()\n",
                "    return result, end_time - start_time\n",
                "\n",
                "# Vergleiche die Laufzeiten\n",
                "n = 1000000\n",
                "inefficient_result, inefficient_time = inefficient_approach(n)\n",
                "efficient_result, efficient_time = efficient_approach(n)\n",
                "\n",
                "print(f\"Ineffiziente Version: {inefficient_time:.6f} Sekunden\")\n",
                "print(f\"Effiziente Version: {efficient_time:.6f} Sekunden\")\n",
                "print(f\"Zeitersparnis: {(inefficient_time - efficient_time) / inefficient_time * 100:.2f}%\")"
            ]
        },
        {
            "cell_type": "code",
            "execution_count": null,
            "metadata": {},
            "outputs": [],
            "source": [
                "# Beispiel 2: Geeignete Datenstrukturen verwenden\n",
                "\n",
                "import time\n",
                "\n",
                "# Erstelle Testdaten\n",
                "data_size = 10000\n",
                "lookup_size = 1000\n",
                "\n",
                "# Daten zum Suchen\n",
                "data_list = list(range(data_size))\n",
                "data_set = set(data_list)\n",
                "\n",
                "# Zufällige Werte zum Nachschlagen\n",
                "import random\n",
                "lookup_values = [random.randint(0, data_size * 2) for _ in range(lookup_size)]\n",
                "\n",
                "# Mit Liste (ineffizient für Mitgliedschaftsprüfung)\n",
                "def lookup_in_list():\n",
                "    start_time = time.time()\n",
                "    found = 0\n",
                "    for value in lookup_values:\n",
                "        if value in data_list:  # O(n) Operation\n",
                "            found += 1\n",
                "    end_time = time.time()\n",
                "    return found, end_time - start_time\n",
                "\n",
                "# Mit Set (effizient für Mitgliedschaftsprüfung)\n",
                "def lookup_in_set():\n",
                "    start_time = time.time()\n",
                "    found = 0\n",
                "    for value in lookup_values:\n",
                "        if value in data_set:  # O(1) Operation\n",
                "            found += 1\n",
                "    end_time = time.time()\n",
                "    return found, end_time - start_time\n",
                "\n",
                "# Vergleiche die Laufzeiten\n",
                "list_found, list_time = lookup_in_list()\n",
                "set_found, set_time = lookup_in_set()\n",
                "\n",
                "print(f\"Liste: {list_found} Werte gefunden in {list_time:.6f} Sekunden\")\n",
                "print(f\"Set: {set_found} Werte gefunden in {set_time:.6f} Sekunden\")\n",
                "print(f\"Set ist {list_time / set_time:.1f}x schneller\")"
            ]
        },
        {
            "cell_type": "code",
            "execution_count": null,
            "metadata": {},
            "outputs": [],
            "source": [
                "# Beispiel 3: List Comprehensions vs. for-Schleifen\n",
                "\n",
                "import time\n",
                "\n",
                "# Traditionelle for-Schleife\n",
                "def traditional_loop(n):\n",
                "    start_time = time.time()\n",
                "    squares = []\n",
                "    for i in range(n):\n",
                "        squares.append(i ** 2)\n",
                "    end_time = time.time()\n",
                "    return squares, end_time - start_time\n",
                "\n",
                "# List Comprehension\n",
                "def list_comprehension(n):\n",
                "    start_time = time.time()\n",
                "    squares = [i ** 2 for i in range(n)]\n",
                "    end_time = time.time()\n",
                "    return squares, end_time - start_time\n",
                "\n",
                "# Generator Expression\n",
                "def generator_expression(n):\n",
                "    start_time = time.time()\n",
                "    squares = (i ** 2 for i in range(n))  # Generiert Werte bei Bedarf\n",
                "    # Konvertiere zu Liste, um den Generator zu konsumieren und die Zeit zu messen\n",
                "    result = list(squares)\n",
                "    end_time = time.time()\n",
                "    return result, end_time - start_time\n",
                "\n",
                "# Vergleiche die Laufzeiten\n",
                "n = 1000000\n",
                "_, trad_time = traditional_loop(n)\n",
                "_, comp_time = list_comprehension(n)\n",
                "_, gen_time = generator_expression(n)\n",
                "\n",
                "print(f\"Traditionelle Schleife: {trad_time:.6f} Sekunden\")\n",
                "print(f\"List Comprehension: {comp_time:.6f} Sekunden\")\n",
                "print(f\"Generator Expression: {gen_time:.6f} Sekunden\")\n",
                "print(f\"List Comprehension ist {trad_time / comp_time:.2f}x schneller als traditionelle Schleife\")"
            ]
        },
        {
            "cell_type": "markdown",
            "metadata": {},
            "source": [
                "### 5.2 Komplexität von Schleifen"
            ]
        },
        {
            "cell_type": "markdown",
            "metadata": {},
            "source": [
                "Bei der Analyse der Effizienz von Schleifen ist die asymptotische Komplexität ein wichtiger Faktor. Hier sind die häufigsten Komplexitätsklassen:\n",
                "\n",
                "- **O(1)**: Konstante Zeit (z.B. Zugriff auf ein Dictionary-Element)\n",
                "- **O(log n)**: Logarithmische Zeit (z.B. binäre Suche)\n",
                "- **O(n)**: Lineare Zeit (z.B. einfache Iteration)\n",
                "- **O(n log n)**: Log-lineare Zeit (z.B. effiziente Sortieralgorithmen)\n",
                "- **O(n²)**: Quadratische Zeit (z.B. verschachtelte Schleifen)\n",
                "- **O(2^n)**: Exponentielle Zeit (z.B. rekursive Fibonacci ohne Memoisation)\n",
                "\n",
                "Die Anzahl der Schleifendurchläufe bestimmt die Zeitkomplexität:"
            ]
        },
        {
            "cell_type": "code",
            "execution_count": null,
            "metadata": {},
            "outputs": [],
            "source": [
                "# O(n) - Lineare Komplexität\n",
                "def linear_complexity(n):\n",
                "    count = 0\n",
                "    for i in range(n):\n",
                "        count += 1  # Eine Operation pro Schleifendurchlauf\n",
                "    return count\n",
                "\n",
                "# O(n²) - Quadratische Komplexität\n",
                "def quadratic_complexity(n):\n",
                "    count = 0\n",
                "    for i in range(n):\n",
                "        for j in range(n):\n",
                "            count += 1  # n * n Operationen\n",
                "    return count\n",
                "\n",
                "# O(n³) - Kubische Komplexität\n",
                "def cubic_complexity(n):\n",
                "    count = 0\n",
                "    for i in range(n):\n",
                "        for j in range(n):\n",
                "            for k in range(n):\n",
                "                count += 1  # n * n * n Operationen\n",
                "    return count\n",
                "\n",
                "# Vergleiche die Anzahl der Operationen\n",
                "for n in [10, 20, 50]:\n",
                "    lin = linear_complexity(n)\n",
                "    quad = quadratic_complexity(n)\n",
                "    cube = cubic_complexity(n)\n",
                "    \n",
                "    print(f\"n = {n}:\")\n",
                "    print(f\"  O(n)   -> {lin} Operationen\")\n",
                "    print(f\"  O(n²)  -> {quad} Operationen ({quad / lin:.1f}x mehr als O(n))\")\n",
                "    print(f\"  O(n³)  -> {cube} Operationen ({cube / quad:.1f}x mehr als O(n²))\")\n",
                "    print()"
            ]
        },
        {
            "cell_type": "markdown",
            "metadata": {},
            "source": [
                "**Übung 5.2a**: Implementiere eine Funktion, die prüft, ob ein String ein Palindrom ist (vorwärts und rückwärts gelesen gleich). Vergleiche anschließend die Laufzeit mit einer Lösung, die Pythons Slice-Notation verwendet (z.B. `s == s[::-1]`)."
            ]
        },
        {
            "cell_type": "code",
            "execution_count": null,
            "metadata": {},
            "outputs": [],
            "source": [
                "import time\n",
                "\n",
                "def is_palindrome_loop(s):\n",
                "    \"\"\"Prüft, ob ein String ein Palindrom ist (mit Schleife).\"\"\"\n",
                "    start_time = time.time()\n",
                "    \n",
                "    # Entferne Leerzeichen und konvertiere zu Kleinbuchstaben\n",
                "    s = s.lower().replace(\" \", \"\")\n",
                "    \n",
                "    left = 0\n",
                "    right = len(s) - 1\n",
                "    \n",
                "    while left < right:\n",
                "        if s[left] != s[right]:\n",
                "            return False, time.time() - start_time\n",
                "        left += 1\n",
                "        right -= 1\n",
                "    \n",
                "    return True, time.time() - start_time\n",
                "\n",
                "def is_palindrome_slice(s):\n",
                "    \"\"\"Prüft, ob ein String ein Palindrom ist (mit Slice-Notation).\"\"\"\n",
                "    start_time = time.time()\n",
                "    \n",
                "    # Entferne Leerzeichen und konvertiere zu Kleinbuchstaben\n",
                "    s = s.lower().replace(\" \", \"\")\n",
                "    \n",
                "    return s == s[::-1], time.time() - start_time\n",
                "\n",
                "# Teste die Funktionen\n",
                "test_cases = [\"Anna\", \"Python\", \"Racecar\", \"A man a plan a canal Panama\"]\n",
                "\n",
                "for test in test_cases:\n",
                "    loop_result, loop_time = is_palindrome_loop(test)\n",
                "    slice_result, slice_time = is_palindrome_slice(test)\n",
                "    \n",
                "    print(f\"'{test}' ist ein Palindrom: {loop_result}\")\n",
                "    print(f\"Laufzeit mit Schleife: {loop_time:.8f} Sekunden\")\n",
                "    print(f\"Laufzeit mit Slice: {slice_time:.8f} Sekunden\")\n",
                "    if loop_time > 0:  # Vermeidet Division durch Null\n",
                "        print(f\"Slice ist {loop_time / slice_time:.2f}x schneller\")\n",
                "    print()"
            ]
        },
        {
            "cell_type": "markdown",
            "metadata": {},
            "source": [
                "### 5.3 Tipps für optimierte Schleifen"
            ]
        },
        {
            "cell_type": "markdown",
            "metadata": {},
            "source": [
                "Hier sind einige Tipps, um Schleifen in Python zu optimieren:\n",
                "\n",
                "1. **Verwende die richtige Art von Schleife**:\n",
                "   - `for`-Schleifen für eine bekannte Anzahl von Iterationen\n",
                "   - `while`-Schleifen für unbekannte oder variable Anzahl von Iterationen\n",
                "\n",
                "2. **Nutze eingebaute Funktionen und Methoden**:\n",
                "   - Viele eingebaute Funktionen sind in C implementiert und daher schneller als reine Python-Schleifen\n",
                "   - Beispiele: `sum()`, `min()`, `max()`, `any()`, `all()`, `map()`, `filter()`\n",
                "\n",
                "3. **Verwende List Comprehensions statt for-Schleifen mit append**:\n",
                "   - Kompakter und oft schneller\n",
                "\n",
                "4. **Vermeide unnötige Berechnungen innerhalb der Schleife**:\n",
                "   - Verschiebe konstante Berechnungen vor die Schleife\n",
                "\n",
                "5. **Nutze die richtigen Datenstrukturen**:\n",
                "   - Listen für sequentielle Zugriffe\n",
                "   - Sets oder Dictionaries für Mitgliedschaftsprüfungen (O(1) statt O(n))"
            ]
        },
        {
            "cell_type": "code",
            "execution_count": null,
            "metadata": {},
            "outputs": [],
            "source": [
                "# Beispiel: Eingebaute Funktionen vs. Schleifen\n",
                "import time\n",
                "\n",
                "# Erstelle eine Liste von Zahlen zum Testen\n",
                "numbers = list(range(1, 10000001))\n",
                "\n",
                "# Berechne Summe mit Schleife\n",
                "def sum_with_loop(numbers):\n",
                "    start_time = time.time()\n",
                "    total = 0\n",
                "    for num in numbers:\n",
                "        total += num\n",
                "    end_time = time.time()\n",
                "    return total, end_time - start_time\n",
                "\n",
                "# Berechne Summe mit eingebauter Funktion\n",
                "def sum_with_builtin(numbers):\n",
                "    start_time = time.time()\n",
                "    total = sum(numbers)\n",
                "    end_time = time.time()\n",
                "    return total, end_time - start_time\n",
                "\n",
                "# Berechne Summe mit mathematischer Formel\n",
                "def sum_with_formula(n):\n",
                "    start_time = time.time()\n",
                "    # Formel für die Summe der ersten n natürlichen Zahlen: n * (n + 1) / 2\n",
                "    total = n * (n + 1) // 2\n",
                "    end_time = time.time()\n",
                "    return total, end_time - start_time\n",
                "\n",
                "# Vergleiche die Laufzeiten\n",
                "loop_result, loop_time = sum_with_loop(numbers)\n",
                "builtin_result, builtin_time = sum_with_builtin(numbers)\n",
                "formula_result, formula_time = sum_with_formula(10000000)\n",
                "\n",
                "print(f\"Ergebnis mit Schleife: {loop_result} in {loop_time:.6f} Sekunden\")\n",
                "print(f\"Ergebnis mit sum(): {builtin_result} in {builtin_time:.6f} Sekunden\")\n",
                "print(f\"Ergebnis mit Formel: {formula_result} in {formula_time:.6f} Sekunden\")\n",
                "print(f\"Die eingebaute Funktion ist {loop_time / builtin_time:.1f}x schneller als die Schleife\")\n",
                "print(f\"Die Formel ist {loop_time / formula_time:.1f}x schneller als die Schleife\")"
            ]
        },
        {
            "cell_type": "markdown",
            "metadata": {},
            "source": [
                "**Übung 5.3a**: Implementiere zwei Funktionen zur Filterung einer Liste von Zahlen (nur gerade Zahlen behalten): eine mit traditioneller Schleife und eine mit List Comprehension. Vergleiche die Laufzeiten."
            ]
        },
        {
            "cell_type": "code",
            "execution_count": null,
            "metadata": {},
            "outputs": [],
            "source": [
                "import time\n",
                "\n",
                "def filter_even_loop(numbers):\n",
                "    \"\"\"Filtert gerade Zahlen mit traditioneller Schleife.\"\"\"\n",
                "    start_time = time.time()\n",
                "    \n",
                "    result = []\n",
                "    for num in numbers:\n",
                "        if num % 2 == 0:\n",
                "            result.append(num)\n",
                "    \n",
                "    end_time = time.time()\n",
                "    return result, end_time - start_time\n",
                "\n",
                "def filter_even_comprehension(numbers):\n",
                "    \"\"\"Filtert gerade Zahlen mit List Comprehension.\"\"\"\n",
                "    start_time = time.time()\n",
                "    \n",
                "    result = [num for num in numbers if num % 2 == 0]\n",
                "    \n",
                "    end_time = time.time()\n",
                "    return result, end_time - start_time\n",
                "\n",
                "# Teste die Funktionen\n",
                "numbers = list(range(1, 1000001))\n",
                "\n",
                "_, loop_time = filter_even_loop(numbers)\n",
                "_, comp_time = filter_even_comprehension(numbers)\n",
                "\n",
                "print(f\"Traditionelle Schleife: {loop_time:.6f} Sekunden\")\n",
                "print(f\"List Comprehension: {comp_time:.6f} Sekunden\")\n",
                "if loop_time > 0:  # Vermeidet Division durch Null\n",
                "    print(f\"List Comprehension ist {loop_time / comp_time:.2f}x schneller\")"
            ]
        },
        {
            "cell_type": "markdown",
            "metadata": {},
            "source": [
                "## Zusammenfassung\n",
                "\n",
                "In diesem Notebook hast du die wichtigsten Konzepte zu Schleifen in Python kennengelernt:\n",
                "\n",
                "1. **While-Schleifen**\n",
                "   - Ausführung von Code, solange eine Bedingung erfüllt ist\n",
                "   - Vermeidung von Endlosschleifen\n",
                "   - Verwendung von else-Klauseln\n",
                "\n",
                "2. **For-Schleifen**\n",
                "   - Iteration über Sequenzen (Listen, Strings, etc.)\n",
                "   - Verwendung von range(), enumerate()\n",
                "   - Schleifensteuerung mit break und continue\n",
                "\n",
                "3. **Verschachtelte Schleifen**\n",
                "   - Verarbeitung mehrdimensionaler Daten\n",
                "   - Erstellung von Mustern\n",
                "   - Auswirkungen von break und continue in verschachtelten Schleifen\n",
                "\n",
                "4. **Praktische Anwendungen**\n",
                "   - Zahlenraten-Spiel\n",
                "   - Fibonacci-Sequenz\n",
                "   - Textanalyse\n",
                "   - Algorithmen (GGT)\n",
                "\n",
                "5. **Effizienz bei Schleifen**\n",
                "   - Richtlinien für effiziente Schleifen\n",
                "   - Asymptotische Komplexität\n",
                "   - Optimierungstipps\n",
                "\n",
                "Schleifen sind ein fundamentales Konzept in der Programmierung und ermöglichen die wiederholte Ausführung von Code. Mit den in diesem Notebook behandelten Konzepten und Techniken bist du gut gerüstet, um verschiedene Probleme effizient zu lösen.\n",
                "\n",
                "Für die PCEP-Prüfung ist es wichtig, die Syntax und die Funktionsweise von Schleifen gut zu verstehen, da sie ein wesentlicher Bestandteil des Prüfungsstoffs sind."
            ]
        },
        {
            "cell_type": "markdown",
            "metadata": {},
            "source": [
                "## Weiterführende Ressourcen\n",
                "\n",
                "- [Offizielle Python-Dokumentation zu Kontrollstrukturen](https://docs.python.org/3/tutorial/controlflow.html)\n",
                "- [PCEP – Certified Entry-Level Python Programmer](https://pythoninstitute.org/certification/pcep-certification-entry-level/)\n",
                "- [Python for Everybody - Coursera-Kurs](https://www.coursera.org/specializations/python)\n",
                "- [Automate the Boring Stuff with Python](https://automatetheboringstuff.com/)\n",
                "- [Real Python - Python Loops](https://realpython.com/python-for-loop/)"
            ]
        }
    ],
    "metadata": {
        "kernelspec": {
            "display_name": "Python 3",
            "language": "python",
            "name": "python3"
        },
        "language_info": {
            "codemirror_mode": {
                "name": "ipython",
                "version": 3
            },
            "file_extension": ".py",
            "mimetype": "text/x-python",
            "name": "python",
            "nbconvert_exporter": "python",
            "pygments_lexer": "ipython3",
            "version": "3.12.7"
        }
    },
    "nbformat": 4,
    "nbformat_minor": 4
}
