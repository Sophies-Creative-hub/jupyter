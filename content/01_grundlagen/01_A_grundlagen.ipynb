{
 "cells": [
  {
   "cell_type": "markdown",
   "id": "02b9e1a1",
   "metadata": {
    "id": "02b9e1a1"
   },
   "source": [
    "# Python Grundlagen \n",
    "Willkommen! Führe alle Codezellen der Reihe nach aus und bearbeite die Aufgaben.\n",
    "Schreibe eigene Lösungen in die vorgesehenen Zellen.\n"
   ]
  },
  {
   "cell_type": "markdown",
   "id": "871ffe65",
   "metadata": {
    "id": "871ffe65"
   },
   "source": [
    "## Aufgabe 1: Pythons interaktiven Modus\n",
    "📌 **Aufgabe:**  \n",
    "Führe die folgenden Befehle aus und erkläre jeweils, was passiert.\n",
    "\n",
    "✏️ **Beispiel:**  \n",
    "`print(\"Hallo\", \"Welt\")` → Gibt zwei Texte mit einem Leerzeichen dazwischen aus\n"
   ]
  },
  {
   "cell_type": "code",
   "execution_count": null,
   "id": "9f28ef2e",
   "metadata": {
    "id": "9f28ef2e"
   },
   "outputs": [],
   "source": [
    "print(\"Mein Name ist\", \"Python\")"
   ]
  },
  {
   "cell_type": "code",
   "execution_count": null,
   "id": "1acb307f",
   "metadata": {
    "id": "1acb307f"
   },
   "outputs": [],
   "source": [
    "7 * 6"
   ]
  },
  {
   "cell_type": "code",
   "execution_count": null,
   "id": "3e920da0",
   "metadata": {
    "id": "3e920da0"
   },
   "outputs": [],
   "source": [
    "\"Python\" * 3"
   ]
  },
  {
   "cell_type": "code",
   "execution_count": null,
   "id": "de3836c2",
   "metadata": {
    "id": "de3836c2"
   },
   "outputs": [],
   "source": [
    "5 / 2"
   ]
  },
  {
   "cell_type": "code",
   "execution_count": null,
   "id": "20284afd",
   "metadata": {
    "id": "20284afd"
   },
   "outputs": [],
   "source": [
    "5 // 2"
   ]
  },
  {
   "cell_type": "code",
   "execution_count": null,
   "id": "cdbe0e95",
   "metadata": {
    "id": "cdbe0e95"
   },
   "outputs": [],
   "source": [
    "type(3.14)"
   ]
  },
  {
   "cell_type": "code",
   "execution_count": null,
   "id": "23bdb492",
   "metadata": {
    "id": "23bdb492"
   },
   "outputs": [],
   "source": [
    "type(\"3.14\")"
   ]
  },
  {
   "cell_type": "code",
   "execution_count": null,
   "id": "f6c969e3",
   "metadata": {
    "id": "f6c969e3"
   },
   "outputs": [],
   "source": [
    "len(\"PCEP-Prüfung\")"
   ]
  },
  {
   "cell_type": "code",
   "execution_count": null,
   "id": "d8fca083",
   "metadata": {
    "id": "d8fca083"
   },
   "outputs": [],
   "source": [
    "\"Python\"[0] + \"Python\"[-1]"
   ]
  },
  {
   "cell_type": "code",
   "execution_count": null,
   "id": "78eef698",
   "metadata": {
    "id": "78eef698"
   },
   "outputs": [],
   "source": [
    "import this"
   ]
  },
  {
   "cell_type": "markdown",
   "id": "139ae424",
   "metadata": {
    "id": "139ae424"
   },
   "source": [
    "💬 **Was bedeuten für dich die ersten drei Zeilen von `import this`?**  \n",
    "Schreibe deine Gedanken als Kommentar darunter.\n"
   ]
  },
  {
   "cell_type": "markdown",
   "id": "291170a7",
   "metadata": {
    "id": "291170a7"
   },
   "source": [
    "## Aufgabe 2: Persönlicher Steckbrief\n",
    "📌 **Ziel:** Schreibe ein kleines Programm, das dich befragt und einen Steckbrief anzeigt.\n",
    "\n",
    "💡 **Hinweise:**\n",
    "- Nutze `input()` um Daten abzufragen, `print()` um auszugeben.\n",
    "- Du brauchst mindestens 6 Abfragen: Name, Alter, Wohnort, Sprache, zwei Hobbys\n",
    "- Für die Altersauswertung brauchst du eine Bedingung: `if / elif / else`\n",
    "- Nutze `int()` um den eingegebenen Text (Alter) in eine Zahl zu verwandeln\n",
    "- Du kannst `if sprache.lower() == \"python\"` verwenden, um auf Groß-/Kleinschreibung zu achten\n"
   ]
  },
  {
   "cell_type": "code",
   "execution_count": null,
   "id": "b2aff1e7",
   "metadata": {
    "id": "b2aff1e7"
   },
   "outputs": [],
   "source": [
    "# ✍️ Dein Steckbrief-Programm\n",
    "# Schreibe deinen Code hier:"
   ]
  },
  {
   "cell_type": "markdown",
   "id": "8db00c2b",
   "metadata": {
    "id": "8db00c2b"
   },
   "source": [
    "## Aufgabe 3: Minirechner\n",
    "📌 **Ziel:** Erstelle einen Taschenrechner für zwei Zahlen\n",
    "\n",
    "🔢 **Operationen:** +, -, \\*, /, //, %, ** sowie Durchschnitt\n",
    "\n",
    "💡 **Hinweise:**\n",
    "- Nutze `float()` für Eingaben\n",
    "- Verwende `round(zahl, 2)` um auf 2 Nachkommastellen zu runden\n",
    "- Denke bei der Division an eine Überprüfung: Division durch 0 vermeiden (siehe Beispiel vom Unterricht heute morgen (Exception_Handling)\n",
    "\n",
    "🧪 **Beispiel für Ausgabeformat:**  \n",
    "`10.00 + 3.00 = 13.00`\n"
   ]
  },
  {
   "cell_type": "code",
   "execution_count": null,
   "id": "ba84c9fc",
   "metadata": {
    "id": "ba84c9fc"
   },
   "outputs": [],
   "source": [
    "# ✍️ Dein Minirechner-Programm\n",
    "# Schreibe deinen Code hier:"
   ]
  },
  {
   "cell_type": "markdown",
   "id": "012ea8bb",
   "metadata": {
    "id": "012ea8bb"
   },
   "source": [
    "## Bonusaufgabe: Geometrierechner\n",
    "📌 **Ziel:** Nutzer kann zwischen Kreis, Rechteck oder Dreieck wählen und Fläche/Umfang berechnen\n",
    "\n",
    "💡 **Hinweise:**\n",
    "- Nutze `import math` für Kreisberechnung (`math.pi`)\n",
    "- Kreisfläche: `Fläche = pi * r ** 2`\n",
    "- Rechteck: `Umfang = 2 * (Länge + Breite)`, `Fläche = Länge * Breite`\n",
    "- Dreieck: `Fläche = 0.5 * Grundseite * Höhe`\n",
    "- Nutze `if`-Abfragen je nach Benutzerwahl\n",
    "\n",
    "📋 **Beispiel-Menü:**\n",
    "```\n",
    "1. Kreis\n",
    "2. Rechteck\n",
    "3. Dreieck\n",
    "```\n"
   ]
  },
  {
   "cell_type": "code",
   "execution_count": null,
   "id": "4fd9fb55",
   "metadata": {
    "id": "4fd9fb55"
   },
   "outputs": [],
   "source": [
    "# ✍️ Dein Geometrierechner-Programm\n",
    "# Schreibe deinen Code hier:"
   ]
  },
  {
   "cell_type": "markdown",
   "id": "529a758b",
   "metadata": {
    "id": "529a758b"
   },
   "source": [
    "## 📝 Hinweise zur Abgabe:\n",
    "- Kommentiere deinen Code (z. B. was eine Zeile macht)\n",
    "- Teste dein Programm mit verschiedenen Eingaben\n",
    "- Lade deine `.py`-Dateien oder dieses Colab-Notebook hoch (z. B. GitHub oder Google Drive)\n",
    "- Bereite dich darauf vor, deine Lösung im Kurs zu erklären. 🧠\n",
    "\n",
    "Viel Erfolg und Spaß beim Coden! 🚀\n"
   ]
  }
 ],
 "metadata": {
  "colab": {
   "provenance": []
  },
  "language_info": {
   "name": "python"
  }
 },
 "nbformat": 4,
 "nbformat_minor": 5
}
