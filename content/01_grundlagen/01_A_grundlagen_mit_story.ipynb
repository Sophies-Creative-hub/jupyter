{
 "cells": [
  {
   "cell_type": "markdown",
   "id": "70f5baf3",
   "metadata": {
    "id": "70f5baf3"
   },
   "source": [
    "# 📚 Python-Grundlagen mit Story\n",
    "**Thema:** Einführung in Python mit einer Geschichte\n",
    "**Ziel:** Die Schüler sollen grundlegende Konzepte in Python selbstständig anwenden und vertiefen."
   ]
  },
  {
   "cell_type": "markdown",
   "id": "58e3ab41",
   "metadata": {
    "id": "58e3ab41"
   },
   "source": [
    "## 🏗️ 1. Konstanten & Variablen"
   ]
  },
  {
   "cell_type": "markdown",
   "id": "942a9623",
   "metadata": {
    "id": "942a9623"
   },
   "source": [
    "Du bist ein Reisender und brauchst eine Identität.\n",
    "\n",
    "**Aufgabe:**\n",
    "- Erstelle drei Variablen:\n",
    "  - `name` (dein Name als String)\n",
    "  - `alter` (dein Alter als ganze Zahl)\n",
    "  - `beruf` (dein Beruf als String)\n",
    "- Gib eine Begrüßung aus, die alle drei Variablen enthält.\n",
    "- **Zusatz:** Ändere die Variable `beruf` und gib die neue Begrüßung aus."
   ]
  },
  {
   "cell_type": "code",
   "execution_count": null,
   "id": "b066b81f",
   "metadata": {
    "id": "b066b81f"
   },
   "outputs": [],
   "source": [
    "# Variablen erstellen\n",
    "\n",
    "\n",
    "# Begrüßung ausgeben\n"
   ]
  },
  {
   "cell_type": "markdown",
   "id": "3aebae3d",
   "metadata": {
    "id": "3aebae3d"
   },
   "source": [
    "## 📦 2. Datentypen & Datenstrukturen"
   ]
  },
  {
   "cell_type": "markdown",
   "id": "8633b8bc",
   "metadata": {
    "id": "8633b8bc"
   },
   "source": [
    "Du entdeckst einen magischen Rucksack, in dem du Gegenstände sammeln kannst! 🎒\n",
    "\n",
    "**Aufgabe:**\n",
    "- Erstelle eine **Liste** `rucksack`, die folgende drei Gegenstände enthält: \"Trank\", \"Schwert\", \"Goldmünzen\".\n",
    "- Füge mit `.append()` ein weiteres Item hinzu.\n",
    "- Entferne mit `.remove()` ein Item.\n",
    "- Gib die aktuelle Liste aus."
   ]
  },
  {
   "cell_type": "code",
   "execution_count": null,
   "id": "681bcfcc",
   "metadata": {
    "id": "681bcfcc"
   },
   "outputs": [],
   "source": [
    "# Rucksack-Liste erstellen\n",
    "\n",
    "# Ausgabe des Rucksacks\n"
   ]
  },
  {
   "cell_type": "markdown",
   "id": "b79066d5",
   "metadata": {
    "id": "b79066d5"
   },
   "source": [
    "## 🍽️ 3. Funktionen für Datenstrukturen"
   ]
  },
  {
   "cell_type": "markdown",
   "id": "cd51cd02",
   "metadata": {
    "id": "cd51cd02"
   },
   "source": [
    "Der Händler gibt dir ein **magisches Buch**. Darin kannst du deine Lieblingsgerichte speichern! 🍽️\n",
    "\n",
    "**Aufgabe:**\n",
    "- Erstelle ein **Dictionary** `lieblingsessen`, das die Namen von 3 Freunden als Schlüssel und ihre Lieblingsgerichte als Werte enthält.\n",
    "- Füge mit `dictionary[key] = value` einen neuen Freund hinzu.\n",
    "- Gib die Lieblingsgerichte aus."
   ]
  },
  {
   "cell_type": "code",
   "execution_count": null,
   "id": "8bb16249",
   "metadata": {
    "id": "8bb16249"
   },
   "outputs": [],
   "source": [
    "# Lieblingsessen-Dictionary erstellen\n",
    "\n",
    "\n",
    "# Neuen Eintrag hinzufügen\n",
    "\n",
    "\n",
    "# Ausgabe\n"
   ]
  },
  {
   "cell_type": "markdown",
   "id": "147da788",
   "metadata": {
    "id": "147da788"
   },
   "source": [
    "## 🛠️ 4. Funktionen definieren"
   ]
  },
  {
   "cell_type": "markdown",
   "id": "c334fea0",
   "metadata": {
    "id": "c334fea0"
   },
   "source": [
    "Du lernst einen **Zauberspruch**, um einen geheimen Raum zu öffnen! 🪄\n",
    "\n",
    "**Aufgabe:**\n",
    "- Schreibe eine Funktion `zauber_spruch()`, die den Satz \"Der geheime Raum öffnet sich!\" ausgibt.\n",
    "- Rufe die Funktion auf."
   ]
  },
  {
   "cell_type": "code",
   "execution_count": null,
   "id": "e1bed226",
   "metadata": {
    "id": "e1bed226"
   },
   "outputs": [],
   "source": [
    "# Funktion definieren\n",
    "\n",
    "\n",
    "# Funktion aufrufen\n"
   ]
  },
  {
   "cell_type": "markdown",
   "id": "1d8fdc5e",
   "metadata": {
    "id": "1d8fdc5e"
   },
   "source": [
    "## 🔑 5. Kontrollstrukturen (if-else)"
   ]
  },
  {
   "cell_type": "markdown",
   "id": "f6ed2eef",
   "metadata": {
    "id": "f6ed2eef"
   },
   "source": [
    "Ein Wächter stellt dir eine Frage: **\"Wie lautet das geheime Passwort?\"**\n",
    "\n",
    "**Aufgabe:**\n",
    "- Frage den Benutzer mit `input()` nach dem Passwort.\n",
    "- Falls das Passwort \"Magie\" lautet, soll \"✅ Zugang gewährt!\" ausgegeben werden.\n",
    "- Andernfalls soll \"❌ Falsches Passwort!\" erscheinen."
   ]
  },
  {
   "cell_type": "code",
   "execution_count": null,
   "id": "7cde5df2",
   "metadata": {
    "id": "7cde5df2"
   },
   "outputs": [],
   "source": [
    "# Passwort-Abfrage\n"
   ]
  },
  {
   "cell_type": "markdown",
   "id": "750de35a",
   "metadata": {
    "id": "750de35a"
   },
   "source": [
    "## 🔄 6. Schleifen (for, while, break)"
   ]
  },
  {
   "cell_type": "markdown",
   "id": "900c3b26",
   "metadata": {
    "id": "900c3b26"
   },
   "source": [
    "Du musst eine **verzauberte Treppe mit 5 Stufen** hochsteigen! 🏛️\n",
    "\n",
    "**Aufgabe:**\n",
    "- Schreibe eine `for`-Schleife, die die Stufen von 1 bis 5 ausgibt.\n",
    "- **Zusatz:** Verwende eine `while`-Schleife, die nach jeder Stufe fragt, ob du weitergehen willst (`ja/nein`). Falls \"nein\", soll die Schleife abbrechen."
   ]
  },
  {
   "cell_type": "code",
   "execution_count": null,
   "id": "309a7500",
   "metadata": {
    "id": "309a7500"
   },
   "outputs": [],
   "source": [
    "# for-Schleife\n",
    "\n",
    "\n",
    "# while-Schleife\n"
   ]
  },
  {
   "cell_type": "markdown",
   "id": "hEqmFNMbosYM",
   "metadata": {
    "id": "hEqmFNMbosYM"
   },
   "source": [
    "## 7. Import von Modulen\n",
    "Importiere die Bibliothek `math` und schreibe eine Funktion, die die Wurzel einer Zahl berechnet."
   ]
  },
  {
   "cell_type": "code",
   "execution_count": null,
   "id": "8MpfboH_o6pk",
   "metadata": {
    "id": "8MpfboH_o6pk"
   },
   "outputs": [],
   "source": [
    "# Modul math importieren\n",
    "\n",
    "# Funktion definieren\n",
    "def compute_square(number):\n",
    "  ...\n",
    "# Funktion ausführen und Ergebnis ausgeben\n",
    "print(compute_square(2))"
   ]
  },
  {
   "cell_type": "markdown",
   "id": "_O60eOiPnT-U",
   "metadata": {
    "id": "_O60eOiPnT-U"
   },
   "source": [
    "## D&D-Spiel\n",
    "Recherchiere nach dem Spiel D&D. Notiere dir einen Ablaufplan der Spiellogik. Versuche das in eigenen Worten zu beschreiben. Wie können wir wesentliche Dinge mithilfe von algorithmischen Konzepten umsetzen?\n",
    "Alternativ darfst du gerne mit Pseudocode/Struktogrammen arbeiten.\n",
    "![](https://images.ctfassets.net/0piqveu8x9oj/7xkbfuRW3hWVoneQ13sI94/f97f0e8982c6ef35a71eeeea42f9d6a1/Articles_Header_Image_w07_2.jpg)"
   ]
  },
  {
   "cell_type": "markdown",
   "id": "AsQV1Hsknovi",
   "metadata": {
    "id": "AsQV1Hsknovi"
   },
   "source": []
  }
 ],
 "metadata": {
  "colab": {
   "provenance": []
  },
  "language_info": {
   "name": "python"
  }
 },
 "nbformat": 4,
 "nbformat_minor": 5
}
